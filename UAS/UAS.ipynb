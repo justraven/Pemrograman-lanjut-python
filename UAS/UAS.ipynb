{
 "cells": [
  {
   "cell_type": "markdown",
   "metadata": {},
   "source": [
    "Soal 1"
   ]
  },
  {
   "cell_type": "code",
   "execution_count": 32,
   "metadata": {},
   "outputs": [
    {
     "name": "stdout",
     "output_type": "stream",
     "text": [
      "Nama :  alim satria\n",
      "NIM :  483503\n",
      "\n",
      "XLXM SXTRXX\n",
      "GANJIL\n"
     ]
    }
   ],
   "source": [
    "#NAMA : ALIM SATRIA FI'I WIJAYA KUSUMA\n",
    "#NIM : 21/483503/SV/20304\n",
    "\n",
    "def NIM(x) :\n",
    "    if x%2 == 0 :\n",
    "        print('GENAP')\n",
    "    else :\n",
    "        print('GANJIL')\n",
    "\n",
    "def Buang_Vokal(x) :\n",
    "    string = x\n",
    "\n",
    "    vokal = ('a','i','u','e','o')\n",
    "\n",
    "    for i in x.lower() :\n",
    "        if i in vokal :\n",
    "            string = string.replace(i,\"x\")\n",
    "    \n",
    "    print(string.upper())\n",
    "\n",
    "\n",
    "\n",
    "input_nama = str(input('Masukkan nama : '))\n",
    "input_nim = int(input('Masukkan nim : '))\n",
    "print('Nama : ',input_nama)\n",
    "print('NIM : ',input_nim)\n",
    "print()\n",
    "Buang_Vokal(input_nama)\n",
    "NIM(input_nim)"
   ]
  },
  {
   "cell_type": "markdown",
   "metadata": {},
   "source": [
    "Soal 2"
   ]
  },
  {
   "cell_type": "code",
   "execution_count": 29,
   "metadata": {},
   "outputs": [
    {
     "name": "stdout",
     "output_type": "stream",
     "text": [
      "1 --> 1\n",
      "2 --> 2\n",
      "3 --> 6\n",
      "4 --> 24\n",
      "5 --> 120\n"
     ]
    }
   ],
   "source": [
    "#NAMA : ALIM SATRIA FI'I WIJAYA KUSUMA\n",
    "#NIM : 21/483503/SV/20304\n",
    "\n",
    "import math\n",
    "\n",
    "def factorial(n) :\n",
    "\n",
    "    for i in range(1,n+1) :\n",
    "        print(i,'-->',math.factorial(i))\n",
    "\n",
    "factorial(5)"
   ]
  },
  {
   "cell_type": "markdown",
   "metadata": {},
   "source": [
    "Soal 3"
   ]
  },
  {
   "cell_type": "code",
   "execution_count": 54,
   "metadata": {},
   "outputs": [
    {
     "name": "stdout",
     "output_type": "stream",
     "text": [
      "list buah :  ['apple', 'durian', 'orange', 'coconut']\n",
      "list jumlah : ['2', '3', '7', '4']\n",
      "dictionary :  {'apple': '2', 'durian': '3', 'orange': '7', 'coconut': '4'}\n",
      "jumlah buah :  16\n"
     ]
    }
   ],
   "source": [
    "#NAMA : ALIM SATRIA FI'I WIJAYA KUSUMA\n",
    "#NIM : 21/483503/SV/20304\n",
    "\n",
    "data = []\n",
    "buah = []\n",
    "jumlah = []\n",
    "jumlah_int = []\n",
    "dictionary = {}\n",
    "\n",
    "file = open(\"fruit.txt\",\"r\")\n",
    "\n",
    "for i in file :\n",
    "    i = i.replace(\"\\n\",\"\")\n",
    "    i = i.replace(\" \",\"\")\n",
    "    data.append(i.split(\",\"))\n",
    "\n",
    "for i in range(len(data)) :\n",
    "\n",
    "    buah.append(data[i][0])\n",
    "    jumlah.append(data[i][1])\n",
    "\n",
    "print('list buah : ', buah)\n",
    "print('list jumlah :', jumlah)\n",
    "\n",
    "dictionary = dict(zip(buah,jumlah))\n",
    "print('dictionary : ', dictionary)\n",
    "\n",
    "for i in range(len(jumlah)) :\n",
    "    jumlah_int.append(int(jumlah[i]))\n",
    "\n",
    "print('jumlah buah : ', sum(jumlah_int))"
   ]
  },
  {
   "cell_type": "markdown",
   "metadata": {},
   "source": [
    "Soal 4"
   ]
  },
  {
   "cell_type": "code",
   "execution_count": 31,
   "metadata": {},
   "outputs": [
    {
     "name": "stdout",
     "output_type": "stream",
     "text": [
      "Nilai :  [90, 85, 95]\n",
      "rata - rata nilai :  90.0\n",
      "Nilai tertinggi :  95\n",
      "Nilai terendah :  85\n",
      "Cumlaude\n",
      "lulus tahun ini!\n"
     ]
    }
   ],
   "source": [
    "#NAMA : ALIM SATRIA FI'I WIJAYA KUSUMA\n",
    "#NIM : 21/483503/SV/20304\n",
    "\n",
    "class rekapNilai :\n",
    "    \n",
    "    __nilai = []\n",
    "\n",
    "    def __init__(self,NIM,tahunMasuk,tahunLulus) :\n",
    "        self.NIM = NIM\n",
    "        self.tahunMasuk = tahunMasuk\n",
    "        self.tahunLulus = tahunLulus\n",
    "    \n",
    "    def tambahNilaiMapel(self,nilai) :\n",
    "        self.__nilai.append(nilai)\n",
    "    \n",
    "    def cetakNilai(self) :\n",
    "        print('Nilai : ', self.__nilai)\n",
    "    \n",
    "    def rata_rata(self) :\n",
    "        print('rata - rata nilai : ', sum(self.__nilai)/len(self.__nilai))\n",
    "\n",
    "    def highest(self) :\n",
    "        print('Nilai tertinggi : ',max(self.__nilai))\n",
    "    \n",
    "    def lowest(self) :\n",
    "        print('Nilai terendah : ', min(self.__nilai))\n",
    "    \n",
    "    def cum(self) :\n",
    "        if max(self.__nilai) >= 95 :\n",
    "            print('Cumlaude')\n",
    "        else :\n",
    "            print('Tidak cumlaude')\n",
    "    \n",
    "    def wisuda(self) :\n",
    "        if(self.tahunLulus - self.tahunMasuk) >= 4 :\n",
    "            print('lulus tahun ini!')\n",
    "        else :\n",
    "            print('tidak lulus tahun ini')\n",
    "\n",
    "alim = rekapNilai(483503,2017,2021)\n",
    "\n",
    "alim.tambahNilaiMapel(90)\n",
    "alim.tambahNilaiMapel(85)\n",
    "alim.tambahNilaiMapel(95)\n",
    "alim.cetakNilai()\n",
    "alim.rata_rata()\n",
    "alim.highest()\n",
    "alim.lowest()\n",
    "alim.cum()\n",
    "alim.wisuda()"
   ]
  }
 ],
 "metadata": {
  "kernelspec": {
   "display_name": "Python 3.8.10 64-bit",
   "language": "python",
   "name": "python3"
  },
  "language_info": {
   "codemirror_mode": {
    "name": "ipython",
    "version": 3
   },
   "file_extension": ".py",
   "mimetype": "text/x-python",
   "name": "python",
   "nbconvert_exporter": "python",
   "pygments_lexer": "ipython3",
   "version": "3.8.10"
  },
  "orig_nbformat": 4,
  "vscode": {
   "interpreter": {
    "hash": "916dbcbb3f70747c44a77c7bcd40155683ae19c65e1c03b4aa3499c5328201f1"
   }
  }
 },
 "nbformat": 4,
 "nbformat_minor": 2
}
