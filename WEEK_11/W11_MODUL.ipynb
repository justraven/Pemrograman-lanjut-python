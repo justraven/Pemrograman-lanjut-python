{
 "cells": [
  {
   "cell_type": "markdown",
   "metadata": {},
   "source": [
    "OOP-1"
   ]
  },
  {
   "cell_type": "markdown",
   "metadata": {},
   "source": [
    "CLASS"
   ]
  },
  {
   "cell_type": "code",
   "execution_count": 1,
   "metadata": {},
   "outputs": [
    {
     "name": "stdout",
     "output_type": "stream",
     "text": [
      "papi is a bird\n",
      "greeny is also a bird\n",
      "papi is 3 years old\n",
      "greeny is 5 years old\n"
     ]
    }
   ],
   "source": [
    "class Parrot :\n",
    "\n",
    "    species = \"bird\"\n",
    "\n",
    "    #### ATTRIBUTE ####\n",
    "    def __init__(self,name,age) :\n",
    "        self.name = name\n",
    "        self.age  = age\n",
    "\n",
    "papi    = Parrot(\"papi\",3)\n",
    "greeny  = Parrot(\"greeny\",5)\n",
    "\n",
    "print(\"papi is a \" + papi.species)\n",
    "print(\"greeny is also a \" + greeny.species)\n",
    "\n",
    "print(papi.name + \" is \" + str(papi.age) + \" years old\")\n",
    "print(greeny.name + \" is \" + str(greeny.age) + \" years old\")"
   ]
  },
  {
   "cell_type": "markdown",
   "metadata": {},
   "source": [
    "METHOD"
   ]
  },
  {
   "cell_type": "code",
   "execution_count": 3,
   "metadata": {},
   "outputs": [
    {
     "name": "stdout",
     "output_type": "stream",
     "text": [
      "papi sings Happy\n",
      "papi is now dancing\n"
     ]
    }
   ],
   "source": [
    "class Parrot :\n",
    "\n",
    "    species = \"bird\"\n",
    "\n",
    "    #### ATTRIBUTE ####\n",
    "    def __init__(self,name,age) :\n",
    "        self.name = name\n",
    "        self.age  = age\n",
    "    \n",
    "    #### METHOD ####\n",
    "    def sing(self,song) :\n",
    "        return \"{} sings {}\".format(self.name,song)\n",
    "    \n",
    "    def dance(self) :\n",
    "        return \"{} is now dancing\".format(self.name)\n",
    "\n",
    "papi    = Parrot(\"papi\",10)\n",
    "\n",
    "print(papi.sing(\"Happy\"))\n",
    "print(papi.dance())"
   ]
  },
  {
   "cell_type": "markdown",
   "metadata": {},
   "source": [
    "TUGAS"
   ]
  },
  {
   "cell_type": "code",
   "execution_count": 1,
   "metadata": {},
   "outputs": [
    {
     "name": "stdout",
     "output_type": "stream",
     "text": [
      "KOTAK BIRU : \n",
      "volume  : 320\n",
      "luas permukaan kardus : 304\n",
      "massa jenis : 0.015625\n",
      "\n",
      "KOTAK MERAH : \n",
      "volume  : 75\n",
      "luas permukaan kardus : 190\n",
      "massa jenis : 0.06666666666666667\n"
     ]
    }
   ],
   "source": [
    "class kardus :\n",
    "\n",
    "    def __init__(self,panjang,lebar,tinggi) :\n",
    "        self.panjang = panjang\n",
    "        self.lebar   = lebar\n",
    "        self.tinggi  = tinggi\n",
    "    \n",
    "    def volume_kardus(self) :\n",
    "        return self.panjang*self.lebar*self.tinggi\n",
    "    \n",
    "    def luas_permukaan_kardus(self) :\n",
    "        return 2 * (self.panjang*self.lebar + self.panjang*self.tinggi + self.tinggi*self.lebar)\n",
    "    \n",
    "    def massa_jenis(self,massa) :\n",
    "        return massa / self.volume_kardus()\n",
    "    \n",
    "kotak_biru = kardus(10,8,4)\n",
    "print(\"KOTAK BIRU : \")\n",
    "print(\"volume  : \" + str(kotak_biru.volume_kardus()))\n",
    "print(\"luas permukaan kardus : \" + str(kotak_biru.luas_permukaan_kardus()))\n",
    "print(\"massa jenis : \" + str(kotak_biru.massa_jenis(5)))\n",
    "\n",
    "print()\n",
    "\n",
    "kotak_merah = kardus(15,5,1)\n",
    "print(\"KOTAK MERAH : \")\n",
    "print(\"volume  : \" + str(kotak_merah.volume_kardus()))\n",
    "print(\"luas permukaan kardus : \" + str(kotak_merah.luas_permukaan_kardus()))\n",
    "print(\"massa jenis : \" + str(kotak_merah.massa_jenis(5)))"
   ]
  },
  {
   "cell_type": "markdown",
   "metadata": {},
   "source": [
    "OOP-2"
   ]
  },
  {
   "cell_type": "markdown",
   "metadata": {},
   "source": [
    "__str__"
   ]
  },
  {
   "cell_type": "code",
   "execution_count": 16,
   "metadata": {},
   "outputs": [
    {
     "name": "stdout",
     "output_type": "stream",
     "text": [
      "ini output : objek\n"
     ]
    },
    {
     "ename": "TypeError",
     "evalue": "can only concatenate str (not \"int\") to str",
     "output_type": "error",
     "traceback": [
      "\u001b[0;31m---------------------------------------------------------------------------\u001b[0m",
      "\u001b[0;31mTypeError\u001b[0m                                 Traceback (most recent call last)",
      "\u001b[1;32m/home/alimsatria/Documents/MATERI KULIAH/PEMROGRAMAN LANJUT/WEEK_11/W11_MODUL.ipynb Cell 10'\u001b[0m in \u001b[0;36m<module>\u001b[0;34m\u001b[0m\n\u001b[1;32m      <a href='vscode-notebook-cell:/home/alimsatria/Documents/MATERI%20KULIAH/PEMROGRAMAN%20LANJUT/WEEK_11/W11_MODUL.ipynb#ch0000009?line=7'>8</a>\u001b[0m objek_2 \u001b[39m=\u001b[39m class_str(\u001b[39m5\u001b[39m)\n\u001b[1;32m     <a href='vscode-notebook-cell:/home/alimsatria/Documents/MATERI%20KULIAH/PEMROGRAMAN%20LANJUT/WEEK_11/W11_MODUL.ipynb#ch0000009?line=9'>10</a>\u001b[0m \u001b[39mprint\u001b[39m(\u001b[39m\"\u001b[39m\u001b[39mini output : \u001b[39m\u001b[39m\"\u001b[39m \u001b[39m+\u001b[39m objek_1\u001b[39m.\u001b[39mvar)\n\u001b[0;32m---> <a href='vscode-notebook-cell:/home/alimsatria/Documents/MATERI%20KULIAH/PEMROGRAMAN%20LANJUT/WEEK_11/W11_MODUL.ipynb#ch0000009?line=10'>11</a>\u001b[0m \u001b[39mprint\u001b[39m(\u001b[39m\"\u001b[39;49m\u001b[39mini output : \u001b[39;49m\u001b[39m\"\u001b[39;49m \u001b[39m+\u001b[39;49m objek_2\u001b[39m.\u001b[39;49mvar)\n",
      "\u001b[0;31mTypeError\u001b[0m: can only concatenate str (not \"int\") to str"
     ]
    }
   ],
   "source": [
    "class class_str :\n",
    "    def __init__(self,value = None) :\n",
    "        self.var = value\n",
    "    def __str__(self) :\n",
    "        return self.var\n",
    "\n",
    "objek_1 = class_str(\"objek\")\n",
    "objek_2 = class_str(5)\n",
    "\n",
    "print(\"ini output : \" + objek_1.var)\n",
    "print(\"ini output : \" + objek_2.var)"
   ]
  },
  {
   "cell_type": "markdown",
   "metadata": {},
   "source": [
    "__dict__"
   ]
  },
  {
   "cell_type": "code",
   "execution_count": 17,
   "metadata": {},
   "outputs": [
    {
     "name": "stdout",
     "output_type": "stream",
     "text": [
      "{'var': 2}\n",
      "{'__module__': '__main__', 'varia': 1, '__init__': <function classy.__init__ at 0x7fad423d4dc0>, 'method': <function classy.method at 0x7fad423d45e0>, '_classy__hidden': <function classy.__hidden at 0x7fad423d4160>, '__dict__': <attribute '__dict__' of 'classy' objects>, '__weakref__': <attribute '__weakref__' of 'classy' objects>, '__doc__': None}\n"
     ]
    }
   ],
   "source": [
    "class classy :\n",
    "\n",
    "    varia = 1\n",
    "\n",
    "    def __init__(self) :\n",
    "        self.var = 2\n",
    "    \n",
    "    def method(self) :\n",
    "        pass\n",
    "\n",
    "    def __hidden(self) :\n",
    "        pass\n",
    "\n",
    "obj = classy()\n",
    "\n",
    "print(obj.__dict__)\n",
    "print(classy.__dict__)"
   ]
  },
  {
   "cell_type": "markdown",
   "metadata": {},
   "source": [
    "__bases__"
   ]
  },
  {
   "cell_type": "code",
   "execution_count": 20,
   "metadata": {},
   "outputs": [
    {
     "name": "stdout",
     "output_type": "stream",
     "text": [
      "(object )\n",
      "(object )\n",
      "(super_one super_two )\n"
     ]
    }
   ],
   "source": [
    "class super_one :\n",
    "    pass\n",
    "class super_two :\n",
    "    pass\n",
    "class sub(super_one,super_two) :\n",
    "    pass\n",
    "\n",
    "def printBases(cls) :\n",
    "    print('(',end='')\n",
    "\n",
    "    for x in cls.__bases__ :\n",
    "        print(x.__name__,end=' ')\n",
    "    \n",
    "    print(')')\n",
    "\n",
    "printBases(super_one)\n",
    "printBases(super_two)\n",
    "printBases(sub)"
   ]
  }
 ],
 "metadata": {
  "interpreter": {
   "hash": "916dbcbb3f70747c44a77c7bcd40155683ae19c65e1c03b4aa3499c5328201f1"
  },
  "kernelspec": {
   "display_name": "Python 3.8.10 64-bit",
   "language": "python",
   "name": "python3"
  },
  "language_info": {
   "codemirror_mode": {
    "name": "ipython",
    "version": 3
   },
   "file_extension": ".py",
   "mimetype": "text/x-python",
   "name": "python",
   "nbconvert_exporter": "python",
   "pygments_lexer": "ipython3",
   "version": "3.8.10"
  },
  "orig_nbformat": 4
 },
 "nbformat": 4,
 "nbformat_minor": 2
}
