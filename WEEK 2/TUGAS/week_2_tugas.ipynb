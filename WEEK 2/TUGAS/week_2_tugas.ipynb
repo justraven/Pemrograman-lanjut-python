{
 "cells": [
  {
   "cell_type": "markdown",
   "metadata": {},
   "source": [
    "1. Konversi suhu dari dan ke Celcius dan Farenheit"
   ]
  },
  {
   "cell_type": "code",
   "execution_count": 21,
   "metadata": {},
   "outputs": [
    {
     "name": "stdout",
     "output_type": "stream",
     "text": [
      "Konversi suhu, silahkan pilih salah satu :\n",
      " \t1. Celcius ke farenheit\n",
      " \t2. Farenheit ke celcius\n",
      "\n",
      "pilihan :  1\n",
      "Input nilai : 100.0'C\n",
      "Hasil :212.0'F\n"
     ]
    }
   ],
   "source": [
    "print(\"Konversi suhu, silahkan pilih salah satu :\\n \\t1. Celcius ke farenheit\\n \\t2. Farenheit ke celcius\\n\")\n",
    "pilihan = int(input(\"masukkan pilihan anda :\"))\n",
    "print(\"pilihan : \", pilihan)\n",
    "suhu = float(input(\"masukkan nilai suhu yang akan dikonversi : \"))\n",
    "\n",
    "if(pilihan == 1) :\n",
    "    konversi = (suhu*(9/5)) + 32\n",
    "    print(\"Input nilai : \"+ str(suhu) + \"\\'C\")\n",
    "    print(\"Hasil :\" + str(konversi) + \"\\'F\")\n",
    "else :\n",
    "    konversi = (suhu - 32)*(5/9)\n",
    "    print(\"Input nilai : \"+ str(suhu) + \"\\'F\")\n",
    "    print(\"Hasil :\" + str(konversi) + \"\\'C\")"
   ]
  },
  {
   "cell_type": "markdown",
   "metadata": {},
   "source": [
    "4. Perbandingan sisi segitiga"
   ]
  },
  {
   "cell_type": "code",
   "execution_count": 6,
   "metadata": {},
   "outputs": [
    {
     "name": "stdout",
     "output_type": "stream",
     "text": [
      "Program perbandingan panjang lidi, untuk membentuk segitiga\n",
      "Input sisi : \t100\t50\t30\n",
      "TIDAK, Tidak bisa membentuk segitiga\n"
     ]
    }
   ],
   "source": [
    "print(\"Program perbandingan panjang lidi, untuk membentuk segitiga\")\n",
    "sisi_1 = int(input(\"Masukkan nilai untuk sisi satu :\"))\n",
    "sisi_2 = int(input(\"Masukkan nilai untuk sisi dua :\"))\n",
    "sisi_3 = int(input(\"Masukkan nilai untuk sisi tiga :\")) \n",
    "\n",
    "print(\"Input sisi : \" + \"\\t\" + str(sisi_1) + \"\\t\" + str(sisi_2) + \"\\t\" + str(sisi_3))\n",
    "\n",
    "if ((sisi_1 > (sisi_2 + sisi_3)) or (sisi_2 > (sisi_1 + sisi_3)) or (sisi_3 > (sisi_1 + sisi_2))) : \n",
    "    print(\"TIDAK, Tidak bisa membentuk segitiga\")\n",
    "else :\n",
    "    print(\"YA, Dapat membentuk segitiga\")"
   ]
  },
  {
   "cell_type": "markdown",
   "metadata": {},
   "source": [
    "5. Perhitungan Nilai Akhir"
   ]
  },
  {
   "cell_type": "code",
   "execution_count": 30,
   "metadata": {},
   "outputs": [
    {
     "name": "stdout",
     "output_type": "stream",
     "text": [
      "Program untuk menghitung nilai akhir\n",
      "Nilai :  10.0\n",
      "keterangan : \n",
      "Gagal\n"
     ]
    }
   ],
   "source": [
    "print(\"Program untuk menghitung nilai akhir\")\n",
    "\n",
    "UAS = int(input(\"masukkan nilai UAS\"))\n",
    "UTS = int(input(\"Masukkan nilai UTS\"))\n",
    "\n",
    "NA = (70/100)*UAS + (30/100)*UTS\n",
    "\n",
    "print(\"Nilai : \",NA)\n",
    "\n",
    "print(\"keterangan : \")\n",
    "\n",
    "if (NA >= 80) : print(\"Lulus\")\n",
    "if (80 > NA >= 70) : print(\"Lulus dengan pertimbangan\")\n",
    "if (70 > NA >= 55) : print(\"Lulus dengan tugas\")\n",
    "if (55 > NA >= 40) : print(\"Mengulang\")\n",
    "if (NA < 40)  : print(\"Gagal\")"
   ]
  },
  {
   "cell_type": "markdown",
   "metadata": {},
   "source": [
    "3. Program konversi waktu"
   ]
  },
  {
   "cell_type": "code",
   "execution_count": 3,
   "metadata": {},
   "outputs": [
    {
     "name": "stdout",
     "output_type": "stream",
     "text": [
      "Program konversi waktu dari second ke timestamp HH/MM/SS\n",
      "waktu yang diinput :  88888\n",
      "24jam\t41menit\t28detik\n"
     ]
    }
   ],
   "source": [
    "print(\"Program konversi waktu dari second ke timestamp HH/MM/SS\")\n",
    "\n",
    "sekon = int(input(\"Masukkan waktu dalam satuan sekon : \"))\n",
    "\n",
    "print(\"waktu yang diinput : \", sekon)\n",
    "\n",
    "jam          = sekon // (60*60)\n",
    "sekon        %= (60*60)\n",
    "menit        = sekon // 60\n",
    "sekon        %= 60\n",
    "\n",
    "print(str(jam) + \"jam\\t\" + str(menit) + \"menit\\t\" + str(sekon) + \"detik\" )"
   ]
  }
 ],
 "metadata": {
  "interpreter": {
   "hash": "31f2aee4e71d21fbe5cf8b01ff0e069b9275f58929596ceb00d14d90e3e16cd6"
  },
  "kernelspec": {
   "display_name": "Python 3.8.10 64-bit",
   "language": "python",
   "name": "python3"
  },
  "language_info": {
   "codemirror_mode": {
    "name": "ipython",
    "version": 3
   },
   "file_extension": ".py",
   "mimetype": "text/x-python",
   "name": "python",
   "nbconvert_exporter": "python",
   "pygments_lexer": "ipython3",
   "version": "3.8.10"
  },
  "orig_nbformat": 4
 },
 "nbformat": 4,
 "nbformat_minor": 2
}
