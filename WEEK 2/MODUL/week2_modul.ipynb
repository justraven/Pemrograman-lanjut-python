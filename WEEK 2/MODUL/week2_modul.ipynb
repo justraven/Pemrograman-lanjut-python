{
 "cells": [
  {
   "cell_type": "markdown",
   "metadata": {},
   "source": [
    "A. Statement IF-Else"
   ]
  },
  {
   "cell_type": "code",
   "execution_count": 23,
   "metadata": {},
   "outputs": [
    {
     "name": "stdout",
     "output_type": "stream",
     "text": [
      "bilangan 1 :  8\n",
      "bilangan 2 :  8\n",
      "bilangan satu dan bilangan dua genap\n"
     ]
    }
   ],
   "source": [
    "import random\n",
    "\n",
    "bawah_1 = 8; atas_1 = 10;\n",
    "bawah_2 = 8; atas_2 = 11;\n",
    "\n",
    "bilangan_1 = random.randint(bawah_1,atas_1)\n",
    "bilangan_2 = random.randint(bawah_2,atas_2)\n",
    "\n",
    "print(\"bilangan 1 : \",bilangan_1); print(\"bilangan 2 : \",bilangan_2)\n",
    "\n",
    "sisa_1 = bilangan_1 % 2; sisa_2 = bilangan_2 %2;\n",
    "\n",
    "if(sisa_1 != 1) and (sisa_2 != 1) :\n",
    "    print(\"bilangan satu dan bilangan dua genap\")\n",
    "else :\n",
    "    print(\"bilangan 1 atau bilangan 2 ganjil\")"
   ]
  },
  {
   "cell_type": "code",
   "execution_count": 12,
   "metadata": {},
   "outputs": [
    {
     "name": "stdout",
     "output_type": "stream",
     "text": [
      "*** NILAI MAHASISWA ***\n",
      "-----------------------\n",
      "Nilai akhir 12/12345/SV/12345\t=\tA\n"
     ]
    }
   ],
   "source": [
    "print(\"*** NILAI MAHASISWA ***\")\n",
    "\n",
    "nama = input(\"Nama : \")\n",
    "nim  = input(\"NIM  : \")\n",
    "nilai= float(input(\"Nilai : \"))\n",
    "\n",
    "print(\"-----------------------\")\n",
    "\n",
    "if(nilai >= 80)   :\n",
    "    skor = 'A'\n",
    "elif(nilai >= 70) :\n",
    "    skor = 'B'\n",
    "elif(nilai >= 60) :\n",
    "    skor = 'C'\n",
    "elif(nilai >= 35) :\n",
    "    skor = 'D'\n",
    "else :\n",
    "    skor = 'E'\n",
    "\n",
    "print(\"Nilai akhir \" + nim + \"\\t=\\t\" + skor)"
   ]
  },
  {
   "cell_type": "markdown",
   "metadata": {},
   "source": [
    "4. Statemen percabangan bersarang (*nested conditional*)"
   ]
  },
  {
   "cell_type": "code",
   "execution_count": 14,
   "metadata": {},
   "outputs": [
    {
     "name": "stdout",
     "output_type": "stream",
     "text": [
      "1\t adalah bilangan \tganjil\tpositif\n"
     ]
    }
   ],
   "source": [
    "angka = int(input(\"Masukkan bilangan bulat bebas =\"))\n",
    "\n",
    "if(angka % 2) == 0 :\n",
    "\n",
    "    genap_ganjil = \"genap\"\n",
    "\n",
    "    if angka < 0 :\n",
    "        positif_or_negatif = \"negatif\"\n",
    "    else :\n",
    "        positif_or_negatif = \"positif\"\n",
    "\n",
    "else:\n",
    "\n",
    "    genap_ganjil = \"ganjil\"\n",
    "\n",
    "    if angka < 0 :\n",
    "        positif_or_negatif = \"negatif\"\n",
    "    else :\n",
    "        positif_or_negatif = \"positif\"\n",
    "\n",
    "print(str(angka) + \"\\t adalah bilangan \\t\" + genap_ganjil + \"\\t\" + positif_or_negatif)"
   ]
  }
 ],
 "metadata": {
  "interpreter": {
   "hash": "916dbcbb3f70747c44a77c7bcd40155683ae19c65e1c03b4aa3499c5328201f1"
  },
  "kernelspec": {
   "display_name": "Python 3.8.10 64-bit",
   "language": "python",
   "name": "python3"
  },
  "language_info": {
   "codemirror_mode": {
    "name": "ipython",
    "version": 3
   },
   "file_extension": ".py",
   "mimetype": "text/x-python",
   "name": "python",
   "nbconvert_exporter": "python",
   "pygments_lexer": "ipython3",
   "version": "3.8.10"
  },
  "orig_nbformat": 4
 },
 "nbformat": 4,
 "nbformat_minor": 2
}
