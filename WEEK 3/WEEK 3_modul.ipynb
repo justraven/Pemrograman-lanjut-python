{
 "cells": [
  {
   "cell_type": "markdown",
   "metadata": {},
   "source": [
    "2. Perulangaan FOR"
   ]
  },
  {
   "cell_type": "code",
   "execution_count": null,
   "metadata": {},
   "outputs": [],
   "source": [
    "for i in range(0,5,2) :\n",
    "    print(i)"
   ]
  },
  {
   "cell_type": "code",
   "execution_count": null,
   "metadata": {},
   "outputs": [],
   "source": [
    "for i in range(0,5) :\n",
    "    print(i);\n",
    "\n",
    "print(\"\\n\")\n",
    "\n",
    "for i in range(5) :\n",
    "    print(i)"
   ]
  },
  {
   "cell_type": "code",
   "execution_count": null,
   "metadata": {},
   "outputs": [],
   "source": [
    "jum = 0\n",
    "for i in range(1,101) :\n",
    "    jum += i\n",
    "\n",
    "print(\"Jumlah bilangan 0-100 : \", jum)"
   ]
  },
  {
   "cell_type": "markdown",
   "metadata": {},
   "source": [
    "3. Indeks pada array"
   ]
  },
  {
   "cell_type": "code",
   "execution_count": null,
   "metadata": {},
   "outputs": [],
   "source": [
    "import time\n",
    "\n",
    "nama = input(\"Tuliskan sebuah nama : \")\n",
    "\n",
    "for i in range(len(nama)) :\n",
    "    print(nama[i])\n",
    "    time.sleep(1)"
   ]
  },
  {
   "cell_type": "markdown",
   "metadata": {},
   "source": [
    "4. Perulangan WHILE"
   ]
  },
  {
   "cell_type": "code",
   "execution_count": null,
   "metadata": {},
   "outputs": [],
   "source": [
    "i=0\n",
    "while i <= 5 :\n",
    "    print(i)\n",
    "    i = i + 1"
   ]
  },
  {
   "cell_type": "code",
   "execution_count": null,
   "metadata": {},
   "outputs": [],
   "source": [
    "epsilon = 0.01\n",
    "bil = 26.0\n",
    "kira_kira = bil / 2.0\n",
    "\n",
    "while abs((kira_kira * kira_kira) - bil) >= epsilon :\n",
    "    kira_kira = kira_kira - (((kira_kira **2) - bil) / (2 * kira_kira))\n",
    "\n",
    "print(\"Akar dari : \",bil,\"adalah sekitar :\", kira_kira)"
   ]
  },
  {
   "cell_type": "markdown",
   "metadata": {},
   "source": [
    "5. Perulangan bersarang"
   ]
  },
  {
   "cell_type": "code",
   "execution_count": null,
   "metadata": {},
   "outputs": [],
   "source": [
    "n = 6\n",
    "m = 6\n",
    "\n",
    "for i in range(n) :\n",
    "    for j in range (m,0,-1) :\n",
    "        if i == j :\n",
    "            print('*',end=\"\")\n",
    "        else :\n",
    "            print(' ',end=\"\")\n",
    "    print('')"
   ]
  },
  {
   "cell_type": "code",
   "execution_count": null,
   "metadata": {},
   "outputs": [],
   "source": [
    "n = 6\n",
    "m = 6\n",
    "\n",
    "for i in range(n) :\n",
    "    for j in range (m) :\n",
    "        if i == j : print('*',end=\"\")\n",
    "    print('')"
   ]
  },
  {
   "cell_type": "code",
   "execution_count": null,
   "metadata": {},
   "outputs": [],
   "source": [
    "n = 6\n",
    "m = 6\n",
    "\n",
    "for i in range(n) :\n",
    "    for j in range (i) :\n",
    "        print('*',end=\"\");\n",
    "    print('')"
   ]
  },
  {
   "cell_type": "markdown",
   "metadata": {},
   "source": [
    "[LATIHAN]"
   ]
  },
  {
   "cell_type": "markdown",
   "metadata": {},
   "source": [
    "1. gambar segitiga"
   ]
  },
  {
   "cell_type": "code",
   "execution_count": null,
   "metadata": {},
   "outputs": [],
   "source": [
    "for i in range (0,7,1) :\n",
    "    for j in range(i) :\n",
    "        print('*',end=\" \")\n",
    "    print('')\n",
    "for i in range (7,0,-1) :\n",
    "    for j in range(i) :\n",
    "        print('*',end=\" \")\n",
    "    print('')\n",
    "    "
   ]
  },
  {
   "cell_type": "markdown",
   "metadata": {},
   "source": [
    "2. Reversed character"
   ]
  },
  {
   "cell_type": "code",
   "execution_count": null,
   "metadata": {},
   "outputs": [],
   "source": [
    "kalimat = \"Sekolah Vokasi UGM\"\n",
    "\n",
    "list_kalimat_terbalik = []\n",
    "kalimat_terbalik = \"\"\n",
    "\n",
    "i = len(kalimat)\n",
    "\n",
    "while i > 0 :\n",
    "    list_kalimat_terbalik += kalimat[i - 1]\n",
    "    i -= 1\n",
    "\n",
    "print(kalimat)\n",
    "print(kalimat_terbalik.join(list_kalimat_terbalik))\n"
   ]
  },
  {
   "cell_type": "markdown",
   "metadata": {},
   "source": [
    "3. Login"
   ]
  },
  {
   "cell_type": "code",
   "execution_count": null,
   "metadata": {},
   "outputs": [],
   "source": [
    "while True:\n",
    "\n",
    "    print('LOG IN')\n",
    "\n",
    "    usn = input(\"Username : \")\n",
    "    psw = input(\"Password : \")\n",
    "\n",
    "    print ('logging in...')\n",
    "\n",
    "    if usn == '21/483503/SV/20304' and psw == 'abc1234' :\n",
    "\n",
    "        print('LOG IN berhasil, selamat beraktivitas')\n",
    "        break\n",
    "\n",
    "    else :\n",
    "\n",
    "        print(\"Log in gagal, coba lagi? (y/n)\")\n",
    "\n",
    "        ans = input(\"(y/n)\")\n",
    "\n",
    "        if ans == 'n' :\n",
    "            print(\"proses login dibatalkan\")\n",
    "            break\n"
   ]
  },
  {
   "cell_type": "markdown",
   "metadata": {},
   "source": [
    "4. Penjumalahan matriks"
   ]
  },
  {
   "cell_type": "code",
   "execution_count": null,
   "metadata": {},
   "outputs": [],
   "source": [
    "A = []\n",
    "B = []\n",
    "C = []\n",
    "\n",
    "# input matriks A\n",
    "for i in range(2) :\n",
    "    a =[]\n",
    "    for j in range(2) :\n",
    "        a.append(int(input()))\n",
    "    A.append(a)\n",
    "\n",
    "# print matriks A\n",
    "print(\"matriks A = \")\n",
    "for i in range(2):\n",
    "    for j in range(2):\n",
    "        print(A[i][j], end = \" \")\n",
    "    print()\n",
    "\n",
    "# input matriks B\n",
    "for i in range(2) :  \n",
    "    b =[]\n",
    "    for j in range(2) :\n",
    "        b.append(int(input()))\n",
    "    B.append(b)\n",
    "\n",
    "# print matriks B\n",
    "print(\"matriks B = \")\n",
    "for i in range(2):\n",
    "    for j in range(2):\n",
    "        print(B[i][j], end = \" \")\n",
    "    print()\n",
    "\n",
    "print(\"\\nC = A + B\")\n",
    "print(\"matriks C = \")\n",
    "\n",
    "# input matriks C\n",
    "for i in range(2) :\n",
    "    c =[]\n",
    "    for j in range(2) :\n",
    "        c.append(A[i][j] + A[i][j])\n",
    "    C.append(c)\n",
    "# print matriks C\n",
    "for i in range(2):\n",
    "    for j in range(2):\n",
    "        print(C[i][j], end = \" \")\n",
    "    print()\n"
   ]
  },
  {
   "cell_type": "markdown",
   "metadata": {},
   "source": [
    "4. Penjumlahan matriks (simplified)"
   ]
  },
  {
   "cell_type": "code",
   "execution_count": null,
   "metadata": {},
   "outputs": [],
   "source": [
    "row = 2\n",
    "col = 2\n",
    "\n",
    "def print_matriks(matriks) :\n",
    "\n",
    "    for i in range(2) :\n",
    "        for j in range (2) :\n",
    "            print(matriks[i][j],end=\" \")\n",
    "        print();\n",
    "\n",
    "def penjumlahan_matriks(matriks_1, matriks2) :\n",
    "\n",
    "    return([])\n",
    "\n",
    "\n",
    "A = [[int(input()) for i in range(2)] for j in range(2)]\n",
    "B = [[int(input()) for i in range(2)] for j in range(2)]\n",
    "\n",
    "print(\"Matriks A = \")\n",
    "print_matriks(A)\n",
    "print(\"\\nMatriks B = \")\n",
    "print_matriks(B)\n"
   ]
  }
 ],
 "metadata": {
  "interpreter": {
   "hash": "916dbcbb3f70747c44a77c7bcd40155683ae19c65e1c03b4aa3499c5328201f1"
  },
  "kernelspec": {
   "display_name": "Python 3.8.10 64-bit",
   "language": "python",
   "name": "python3"
  },
  "language_info": {
   "codemirror_mode": {
    "name": "ipython",
    "version": 3
   },
   "file_extension": ".py",
   "mimetype": "text/x-python",
   "name": "python",
   "nbconvert_exporter": "python",
   "pygments_lexer": "ipython3",
   "version": "3.8.10"
  },
  "orig_nbformat": 4
 },
 "nbformat": 4,
 "nbformat_minor": 2
}
