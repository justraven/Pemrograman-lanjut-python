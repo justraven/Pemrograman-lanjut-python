{
 "cells": [
  {
   "cell_type": "markdown",
   "metadata": {},
   "source": [
    "[VIDEO] 1.PERULANGAN WHILE"
   ]
  },
  {
   "cell_type": "code",
   "execution_count": 1,
   "metadata": {},
   "outputs": [
    {
     "name": "stdout",
     "output_type": "stream",
     "text": [
      "0\n",
      "2\n",
      "4\n",
      "6\n",
      "8\n"
     ]
    }
   ],
   "source": [
    "i = 0\n",
    "\n",
    "while i < 10 : \n",
    "    print(i)\n",
    "    i+=2"
   ]
  },
  {
   "cell_type": "code",
   "execution_count": 3,
   "metadata": {},
   "outputs": [
    {
     "name": "stdout",
     "output_type": "stream",
     "text": [
      "Jumlah bilangan ganjil :  5\n",
      "Jumlah bilangan genap  :  5\n"
     ]
    }
   ],
   "source": [
    "ganjil = 0\n",
    "genap = 0\n",
    "\n",
    "angka = int(input(\"Masukkan bilangan bulat, atau masukkan nol untuk berhenti\"))\n",
    "\n",
    "while angka != 0 :\n",
    "\n",
    "    if angka%2 == 1 :\n",
    "        ganjil += 1\n",
    "    else :\n",
    "        genap += 1\n",
    "    \n",
    "    angka = int(input(\"Masukkan bilangan bulat, atau masukkan nol untuk berhenti\"))\n",
    "\n",
    "print(\"Jumlah bilangan ganjil : \",ganjil)\n",
    "print(\"Jumlah bilangan genap  : \",genap)"
   ]
  },
  {
   "cell_type": "code",
   "execution_count": 5,
   "metadata": {},
   "outputs": [
    {
     "name": "stdout",
     "output_type": "stream",
     "text": [
      "Anda belum beruntung, angka yang dimasukkan : 1235\n",
      "Anda belum beruntung, angka yang dimasukkan : 11122\n",
      "Anda belum beruntung, angka yang dimasukkan : 1235\n",
      "Anda belum beruntung, angka yang dimasukkan : 33435\n",
      "Anda belum beruntung, angka yang dimasukkan : 3435\n",
      "Anda belum beruntung, angka yang dimasukkan : 34365\n",
      "Anda beruntung, tebakan lotre benar, angka yang dimasukkan 1234\n"
     ]
    }
   ],
   "source": [
    "lotre  = 1234\n",
    "tebak_lotre = 0\n",
    "\n",
    "while tebak_lotre != lotre :\n",
    "\n",
    "    tebak_lotre = int(input(\"Masukkan angka lotre\"))\n",
    "    if tebak_lotre != lotre : print(\"Anda belum beruntung, angka yang dimasukkan :\", tebak_lotre)\n",
    "\n",
    "print(\"Anda beruntung, tebakan lotre benar, angka yang dimasukkan\", tebak_lotre)\n",
    "\n"
   ]
  },
  {
   "cell_type": "markdown",
   "metadata": {},
   "source": [
    "[VIDEO] 2. Statement FOR"
   ]
  },
  {
   "cell_type": "markdown",
   "metadata": {},
   "source": [
    "a. untuk rentang nilai"
   ]
  },
  {
   "cell_type": "code",
   "execution_count": 6,
   "metadata": {},
   "outputs": [
    {
     "name": "stdout",
     "output_type": "stream",
     "text": [
      "0\n",
      "1\n",
      "2\n",
      "3\n",
      "4\n"
     ]
    }
   ],
   "source": [
    "for i in range(5) :\n",
    "    print(i)"
   ]
  },
  {
   "cell_type": "code",
   "execution_count": 7,
   "metadata": {},
   "outputs": [
    {
     "name": "stdout",
     "output_type": "stream",
     "text": [
      "2\n",
      "3\n",
      "4\n",
      "5\n",
      "6\n",
      "7\n",
      "8\n",
      "9\n",
      "10\n",
      "11\n",
      "12\n",
      "13\n",
      "14\n"
     ]
    }
   ],
   "source": [
    "for i in range(2,15) :\n",
    "    print(i)"
   ]
  },
  {
   "cell_type": "code",
   "execution_count": 8,
   "metadata": {},
   "outputs": [
    {
     "name": "stdout",
     "output_type": "stream",
     "text": [
      "2\n",
      "4\n",
      "6\n",
      "8\n",
      "10\n",
      "12\n",
      "14\n"
     ]
    }
   ],
   "source": [
    "for i in range(2,15,2) :\n",
    "    print(i)"
   ]
  },
  {
   "cell_type": "markdown",
   "metadata": {},
   "source": [
    "b. untuk rentang koleksi"
   ]
  },
  {
   "cell_type": "code",
   "execution_count": 11,
   "metadata": {},
   "outputs": [
    {
     "name": "stdout",
     "output_type": "stream",
     "text": [
      "a\n",
      "1\n",
      "0.5\n",
      "True\n",
      "List suhu farenheit :  [77.0, 78.8, 81.14, 75.02]\n"
     ]
    }
   ],
   "source": [
    "list_alim = [\"a\",1,.5,True]\n",
    "list_angka = [1,2,3,4]\n",
    "list_string = [\"alim\",\"yogyakarta\",\"ugm\"]\n",
    "list_suhu_celcius = [25.0,26.0,27.3,23.9]\n",
    "list_suhu_farenheit = []\n",
    "\n",
    "for i in list_alim :\n",
    "    print(i)\n",
    "\n",
    "for i in range(len(list_suhu_celcius)) :\n",
    "    list_suhu_farenheit.append((list_suhu_celcius[i]*9/5) + 32)\n",
    "\n",
    "print(\"List suhu farenheit : \", list_suhu_farenheit)"
   ]
  },
  {
   "cell_type": "markdown",
   "metadata": {},
   "source": [
    "[VIDEO] 3. Statement break"
   ]
  },
  {
   "cell_type": "code",
   "execution_count": 12,
   "metadata": {},
   "outputs": [
    {
     "name": "stdout",
     "output_type": "stream",
     "text": [
      "0 1 2 3 4 5 6 7 Masih di dalam loop\n"
     ]
    }
   ],
   "source": [
    "for i in range(11) :\n",
    "    print(i, end=' ')\n",
    "    if i == 7 :\n",
    "        print(\"Masih di dalam loop\")\n",
    "        break"
   ]
  },
  {
   "cell_type": "code",
   "execution_count": 13,
   "metadata": {},
   "outputs": [
    {
     "name": "stdout",
     "output_type": "stream",
     "text": [
      "Mulai\n",
      "Didalam loop :  1\n",
      "Didalam loop :  2\n",
      "Diluar loop\n"
     ]
    }
   ],
   "source": [
    "print(\"Mulai\")\n",
    "for i in range(1,6) :\n",
    "    if i == 3 :\n",
    "        break\n",
    "    print(\"Didalam loop : \", i)\n",
    "print(\"Diluar loop\")"
   ]
  },
  {
   "cell_type": "markdown",
   "metadata": {},
   "source": [
    "[VIDEO] 4. Statement continue"
   ]
  },
  {
   "cell_type": "code",
   "execution_count": 14,
   "metadata": {},
   "outputs": [
    {
     "name": "stdout",
     "output_type": "stream",
     "text": [
      "1 3 5 7 9 "
     ]
    }
   ],
   "source": [
    "for i in range(1,11) :\n",
    "    if i%2 == 0 :\n",
    "        continue\n",
    "    print(i,end=' ')"
   ]
  },
  {
   "cell_type": "code",
   "execution_count": 15,
   "metadata": {},
   "outputs": [
    {
     "name": "stdout",
     "output_type": "stream",
     "text": [
      "Mulai\n",
      "Didalam loop :  1\n",
      "Didalam loop :  2\n",
      "Didalam loop :  4\n",
      "Didalam loop :  5\n",
      "Diluar loop\n"
     ]
    }
   ],
   "source": [
    "print(\"Mulai\")\n",
    "for i in range(1,6) :\n",
    "    if i == 3 :\n",
    "        continue\n",
    "    print(\"Didalam loop : \", i)\n",
    "print(\"Diluar loop\")"
   ]
  }
 ],
 "metadata": {
  "interpreter": {
   "hash": "916dbcbb3f70747c44a77c7bcd40155683ae19c65e1c03b4aa3499c5328201f1"
  },
  "kernelspec": {
   "display_name": "Python 3.8.10 64-bit",
   "language": "python",
   "name": "python3"
  },
  "language_info": {
   "codemirror_mode": {
    "name": "ipython",
    "version": 3
   },
   "file_extension": ".py",
   "mimetype": "text/x-python",
   "name": "python",
   "nbconvert_exporter": "python",
   "pygments_lexer": "ipython3",
   "version": "3.8.10"
  },
  "orig_nbformat": 4
 },
 "nbformat": 4,
 "nbformat_minor": 2
}
