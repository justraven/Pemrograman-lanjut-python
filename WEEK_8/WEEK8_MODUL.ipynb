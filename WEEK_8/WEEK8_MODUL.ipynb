{
 "cells": [
  {
   "cell_type": "markdown",
   "metadata": {},
   "source": [
    "memanggil fungsi"
   ]
  },
  {
   "cell_type": "code",
   "execution_count": 2,
   "metadata": {},
   "outputs": [
    {
     "name": "stdout",
     "output_type": "stream",
     "text": [
      "Nilai maksimum antara  10  dan  100  adalah  100\n"
     ]
    }
   ],
   "source": [
    "def maksimum(x,y) :\n",
    "    if x>y :\n",
    "        return x\n",
    "    else   :\n",
    "        return y\n",
    "\n",
    "a = int(input('Nilai a : '))\n",
    "b = int(input('Nilai b : '))\n",
    "c = maksimum(a,b)\n",
    "\n",
    "print('Nilai maksimum antara ', a ,' dan ',b,' adalah ',c)"
   ]
  },
  {
   "cell_type": "code",
   "execution_count": 3,
   "metadata": {},
   "outputs": [
    {
     "name": "stdout",
     "output_type": "stream",
     "text": [
      "Nilai maksimum antara  1  dan  10  adalah  10\n"
     ]
    }
   ],
   "source": [
    "a = int(input('Nilai a : '))\n",
    "b = int(input('Nilai b : '))\n",
    "c = maksimum(a,b)\n",
    "\n",
    "print('Nilai maksimum antara ', a ,' dan ',b,' adalah ',c)\n",
    "\n",
    "def maksimum(x,y) :\n",
    "    if x>y :\n",
    "        return x\n",
    "    else   :\n",
    "        return y"
   ]
  },
  {
   "cell_type": "code",
   "execution_count": 4,
   "metadata": {},
   "outputs": [
    {
     "name": "stdout",
     "output_type": "stream",
     "text": [
      "2 ^ 4 = 16\n"
     ]
    }
   ],
   "source": [
    "a = int(input('Bilangan : '))\n",
    "b = int(input('Pangkat : '))\n",
    "\n",
    "def pangkat_bilangan(x,y) :\n",
    "    return x**y #x^y\n",
    "\n",
    "c = pangkat_bilangan(a,b)\n",
    "print(a,'^',b,'=',c)"
   ]
  },
  {
   "cell_type": "markdown",
   "metadata": {},
   "source": [
    "scope variabel"
   ]
  },
  {
   "cell_type": "code",
   "execution_count": 5,
   "metadata": {},
   "outputs": [
    {
     "name": "stdout",
     "output_type": "stream",
     "text": [
      "x =  4\n",
      "x =  3 \ty =  2 \tz =  4\n"
     ]
    }
   ],
   "source": [
    "def f(x) :\n",
    "    y = 1\n",
    "    x = x + y\n",
    "    print('x = ',x)\n",
    "    return x\n",
    "\n",
    "x = 3\n",
    "y = 2\n",
    "z = f(x)\n",
    "\n",
    "print('x = ',x,'\\ty = ',y,'\\tz = ',z)"
   ]
  },
  {
   "cell_type": "markdown",
   "metadata": {},
   "source": [
    "fungsi bersarang"
   ]
  },
  {
   "cell_type": "code",
   "execution_count": 6,
   "metadata": {},
   "outputs": [
    {
     "name": "stdout",
     "output_type": "stream",
     "text": [
      "x =  4\n",
      "z =  4\n",
      "x =  abc\n",
      "x =  4\n",
      "x =  3\n",
      "z =  <function f.<locals>.g at 0x7fc9491741f0>\n",
      "x =  abc\n"
     ]
    }
   ],
   "source": [
    "def f(x) :\n",
    "    def g() :\n",
    "        x = 'abc'\n",
    "        print('x = ',x)\n",
    "    def h() :\n",
    "        z = x\n",
    "        print('z = ',z)\n",
    "    \n",
    "    x = x + 1\n",
    "    print('x = ',x)\n",
    "    h()\n",
    "    g()\n",
    "    print('x = ',x)\n",
    "    return g\n",
    "\n",
    "x = 3\n",
    "z = f(x)\n",
    "print('x = ',x)\n",
    "print('z = ',z)\n",
    "z()"
   ]
  },
  {
   "cell_type": "markdown",
   "metadata": {},
   "source": [
    "Lambda"
   ]
  },
  {
   "cell_type": "code",
   "execution_count": 8,
   "metadata": {},
   "outputs": [
    {
     "name": "stdout",
     "output_type": "stream",
     "text": [
      "2 ^ 3 = 8\n"
     ]
    }
   ],
   "source": [
    "pangkat = lambda a,b : a **b\n",
    "\n",
    "a = 2\n",
    "b = 3\n",
    "c = pangkat(a,b)\n",
    "print(a,'^',b,'=',c)"
   ]
  },
  {
   "cell_type": "code",
   "execution_count": null,
   "metadata": {},
   "outputs": [],
   "source": [
    "Rekursi"
   ]
  },
  {
   "cell_type": "code",
   "execution_count": 11,
   "metadata": {},
   "outputs": [],
   "source": [
    "def factR(n) :\n",
    "    if n == 1:\n",
    "        return n\n",
    "    return n*factR(n-1)\n",
    "\n"
   ]
  },
  {
   "cell_type": "markdown",
   "metadata": {},
   "source": [
    "tugas modul"
   ]
  },
  {
   "cell_type": "code",
   "execution_count": 13,
   "metadata": {},
   "outputs": [
    {
     "name": "stdout",
     "output_type": "stream",
     "text": [
      "Operasi : 1. kali, 2. bagi, 3. tambah, 4. kurang, 5. perpangkatan, 6. akar\n",
      "Hasil operasi  1  dari nilai a =  1  dan b =  2  adalah  2\n"
     ]
    }
   ],
   "source": [
    "import math\n",
    "\n",
    "x = 0\n",
    "c = 0\n",
    "\n",
    "print('Operasi : 1. kali, 2. bagi, 3. tambah, 4. kurang, 5. perpangkatan, 6. akar')\n",
    "\n",
    "def kali(a,b) : return a*b\n",
    "def bagi(a,b) : return a/b\n",
    "def tambah(a,b) : return a+b\n",
    "def kurang(a,b) : return a-b\n",
    "def perpangkatan(a,b) : return a**b\n",
    "def akar(a) : return math.sqrt(a)\n",
    "\n",
    "x = int(input('Masukkan pilihan operasi : ')) - 1\n",
    "a = int(input('Masukkan nilai a :'))\n",
    "b = int(input('Masukkan nilai b :'))\n",
    "\n",
    "if x == 0 :\n",
    "    c = kali(a,b)\n",
    "elif x == 1 :\n",
    "    c = bagi(a,b)\n",
    "elif x == 2 :\n",
    "    c = tambah(a,b)\n",
    "elif x == 3 :\n",
    "    c = bagi(a,b)\n",
    "elif x == 4 :\n",
    "    c = perpangkatan(a,b)\n",
    "elif x == 5 :\n",
    "    c = akar(a)\n",
    "\n",
    "print('Hasil operasi ',x+1,' dari nilai a = ',a,' dan b = ',b,' adalah ',c)\n",
    "\n",
    "\n"
   ]
  }
 ],
 "metadata": {
  "interpreter": {
   "hash": "916dbcbb3f70747c44a77c7bcd40155683ae19c65e1c03b4aa3499c5328201f1"
  },
  "kernelspec": {
   "display_name": "Python 3.8.10 64-bit",
   "language": "python",
   "name": "python3"
  },
  "language_info": {
   "codemirror_mode": {
    "name": "ipython",
    "version": 3
   },
   "file_extension": ".py",
   "mimetype": "text/x-python",
   "name": "python",
   "nbconvert_exporter": "python",
   "pygments_lexer": "ipython3",
   "version": "3.8.10"
  },
  "orig_nbformat": 4
 },
 "nbformat": 4,
 "nbformat_minor": 2
}
