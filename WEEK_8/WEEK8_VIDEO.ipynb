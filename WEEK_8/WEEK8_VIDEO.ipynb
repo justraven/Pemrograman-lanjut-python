{
 "cells": [
  {
   "cell_type": "code",
   "execution_count": 32,
   "metadata": {},
   "outputs": [
    {
     "name": "stdout",
     "output_type": "stream",
     "text": [
      "Panggil fungsi :\n",
      "15\n",
      "Panggil fungsi :\n",
      "16\n",
      "Panggil fungsi :\n",
      "17\n"
     ]
    }
   ],
   "source": [
    "print('Panggil fungsi :')\n",
    "a = int(input('Masukkan nilai : '))\n",
    "print(a)\n",
    "\n",
    "print('Panggil fungsi :')\n",
    "b = int(input('Masukkan nilai : '))\n",
    "print(b)\n",
    "\n",
    "print('Panggil fungsi :')\n",
    "c = int(input('Masukkan nilai : '))\n",
    "print(c)"
   ]
  },
  {
   "cell_type": "code",
   "execution_count": 33,
   "metadata": {},
   "outputs": [
    {
     "name": "stdout",
     "output_type": "stream",
     "text": [
      "mulai\n",
      "Panggil fungsi :\n",
      "15\n",
      "Panggil fungsi :\n",
      "16\n",
      "Panggil fungsi :\n",
      "17\n",
      "selesai\n"
     ]
    }
   ],
   "source": [
    "def input_nilai() :\n",
    "    print('Panggil fungsi :')\n",
    "    a = int(input('Masukkan nilai : '))\n",
    "    print(a)\n",
    "\n",
    "print('mulai')\n",
    "input_nilai()\n",
    "input_nilai()\n",
    "input_nilai()\n",
    "print('selesai')"
   ]
  },
  {
   "cell_type": "markdown",
   "metadata": {},
   "source": [
    "Parameterized function"
   ]
  },
  {
   "cell_type": "code",
   "execution_count": 2,
   "metadata": {},
   "outputs": [
    {
     "name": "stdout",
     "output_type": "stream",
     "text": [
      "pesan :  ALIM\n",
      "pesan :  YOGYAKARTA\n"
     ]
    }
   ],
   "source": [
    "def pesan(n) :\n",
    "    print('pesan : ',n.upper())\n",
    "\n",
    "pesan('alim')\n",
    "pesan('yogyakarta')"
   ]
  },
  {
   "cell_type": "code",
   "execution_count": 4,
   "metadata": {},
   "outputs": [
    {
     "name": "stdout",
     "output_type": "stream",
     "text": [
      "Nama  Alim  umur  144  bulan\n",
      "Nama  Andi  umur  360  bulan\n"
     ]
    }
   ],
   "source": [
    "def pesan_lagi(nama,umur) :\n",
    "    umur *= 12\n",
    "    print('Nama ',nama,' umur ',umur,' bulan')\n",
    "\n",
    "pesan_lagi('Alim',12)\n",
    "pesan_lagi('Andi',30)"
   ]
  },
  {
   "cell_type": "markdown",
   "metadata": {},
   "source": [
    "Argumen posisi"
   ]
  },
  {
   "cell_type": "code",
   "execution_count": 5,
   "metadata": {},
   "outputs": [
    {
     "name": "stdout",
     "output_type": "stream",
     "text": [
      "Nama saya :  Alim Satria\n",
      "Nama saya :  Gayus Tambunan\n"
     ]
    }
   ],
   "source": [
    "def introduction(fName,lName) :\n",
    "    print('Nama saya : ',fName,lName)\n",
    "\n",
    "introduction('Alim','Satria')\n",
    "introduction('Gayus','Tambunan')"
   ]
  },
  {
   "cell_type": "code",
   "execution_count": 7,
   "metadata": {},
   "outputs": [
    {
     "name": "stdout",
     "output_type": "stream",
     "text": [
      "Nama saya :  Tambunan Gayus\n"
     ]
    }
   ],
   "source": [
    "introduction(lName='Gayus',fName='Tambunan')"
   ]
  },
  {
   "cell_type": "code",
   "execution_count": 19,
   "metadata": {},
   "outputs": [
    {
     "name": "stdout",
     "output_type": "stream",
     "text": [
      "Hasil penjumlahan :  3\n"
     ]
    }
   ],
   "source": [
    "def jumlah(a,b,c) :\n",
    "    z = a+b+c\n",
    "    print('Hasil penjumlahan : ',z)\n",
    "\n",
    "jumlah(1,1,1)"
   ]
  },
  {
   "cell_type": "code",
   "execution_count": 11,
   "metadata": {},
   "outputs": [
    {
     "name": "stdout",
     "output_type": "stream",
     "text": [
      "Nama saya :  Alim Satria Wijaya\n",
      "Nama saya :  Alim Satria Kusuma\n"
     ]
    }
   ],
   "source": [
    "def introduction(fName,mName,lName = 'Wijaya') :\n",
    "    print('Nama saya : ',fName,mName,lName)\n",
    "\n",
    "introduction('Alim','Satria')\n",
    "introduction('Alim','Satria',lName='Kusuma')"
   ]
  },
  {
   "cell_type": "markdown",
   "metadata": {},
   "source": [
    "return"
   ]
  },
  {
   "cell_type": "code",
   "execution_count": 13,
   "metadata": {},
   "outputs": [
    {
     "name": "stdout",
     "output_type": "stream",
     "text": [
      "123\n"
     ]
    }
   ],
   "source": [
    "def boring_funtion() :\n",
    "    return 123\n",
    "\n",
    "x = boring_funtion()\n",
    "\n",
    "print(x)"
   ]
  },
  {
   "cell_type": "code",
   "execution_count": 15,
   "metadata": {},
   "outputs": [
    {
     "name": "stdout",
     "output_type": "stream",
     "text": [
      "alim\n"
     ]
    }
   ],
   "source": [
    "def coba_function() :\n",
    "    y = 'alim'\n",
    "    return y\n",
    "\n",
    "x = coba_function()\n",
    "print(x)"
   ]
  },
  {
   "cell_type": "code",
   "execution_count": 17,
   "metadata": {},
   "outputs": [
    {
     "name": "stdout",
     "output_type": "stream",
     "text": [
      "3\n"
     ]
    }
   ],
   "source": [
    "def jumlah(a,b,c) :\n",
    "    z = a+b+c\n",
    "    return z\n",
    "\n",
    "hasil = jumlah(1,1,1)\n",
    "print(hasil)"
   ]
  },
  {
   "cell_type": "code",
   "execution_count": 20,
   "metadata": {},
   "outputs": [
    {
     "name": "stdout",
     "output_type": "stream",
     "text": [
      "None\n",
      "True\n"
     ]
    }
   ],
   "source": [
    "def strange_function(n) :\n",
    "    if n%2 == 0 :\n",
    "        return True\n",
    "\n",
    "hasil = strange_function(9)\n",
    "print(hasil)\n",
    "hasil = strange_function(8)\n",
    "print(hasil)"
   ]
  },
  {
   "cell_type": "code",
   "execution_count": 22,
   "metadata": {},
   "outputs": [
    {
     "name": "stdout",
     "output_type": "stream",
     "text": [
      "5\n"
     ]
    }
   ],
   "source": [
    "def sum_list(listangka) :\n",
    "    hasil = 0\n",
    "    for i in listangka :\n",
    "        hasil += 1\n",
    "    return hasil\n",
    "\n",
    "k = [1,2,3,4,5]\n",
    "hasil_sum = sum_list(k)\n",
    "\n",
    "print(hasil_sum)"
   ]
  },
  {
   "cell_type": "code",
   "execution_count": 24,
   "metadata": {},
   "outputs": [
    {
     "name": "stdout",
     "output_type": "stream",
     "text": [
      "[0]\n",
      "[1, 0]\n",
      "[2, 1, 0]\n",
      "[3, 2, 1, 0]\n",
      "Keluaran :  [3, 2, 1, 0]\n"
     ]
    }
   ],
   "source": [
    "def strange_list(n) :\n",
    "    list_nilai = []\n",
    "    for i in range (0,n) :\n",
    "        list_nilai.insert(0,i)\n",
    "        print(list_nilai)\n",
    "    return list_nilai\n",
    "print('Keluaran : ',strange_list(4))"
   ]
  },
  {
   "cell_type": "markdown",
   "metadata": {},
   "source": [
    "TUGAS"
   ]
  },
  {
   "cell_type": "code",
   "execution_count": 31,
   "metadata": {},
   "outputs": [
    {
     "name": "stdout",
     "output_type": "stream",
     "text": [
      "1900 -->OK\n",
      "2000 -->OK\n",
      "2016 -->OK\n",
      "1987 -->OK\n"
     ]
    }
   ],
   "source": [
    "def is_leap_year(year) :\n",
    "    if year%400 == 0 or year%100 != 0 and year%4 == 0 :\n",
    "        return True\n",
    "    else : \n",
    "        return False\n",
    "\n",
    "testdata = [1900,2000,2016,1987]\n",
    "testresult = [False,True,True,False]\n",
    "\n",
    "for i in range(len(testdata)) :\n",
    "    year = testdata[i]\n",
    "    print(year,'-->',end=\"\")\n",
    "    result = is_leap_year(year)\n",
    "    if result == testresult[i] : print('OK')\n",
    "    else : print('Failed')\n"
   ]
  }
 ],
 "metadata": {
  "interpreter": {
   "hash": "916dbcbb3f70747c44a77c7bcd40155683ae19c65e1c03b4aa3499c5328201f1"
  },
  "kernelspec": {
   "display_name": "Python 3.8.10 64-bit",
   "language": "python",
   "name": "python3"
  },
  "language_info": {
   "codemirror_mode": {
    "name": "ipython",
    "version": 3
   },
   "file_extension": ".py",
   "mimetype": "text/x-python",
   "name": "python",
   "nbconvert_exporter": "python",
   "pygments_lexer": "ipython3",
   "version": "3.8.10"
  },
  "orig_nbformat": 4
 },
 "nbformat": 4,
 "nbformat_minor": 2
}
