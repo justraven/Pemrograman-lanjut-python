{
 "cells": [
  {
   "cell_type": "markdown",
   "metadata": {},
   "source": [
    "TUGAS WEEK 6"
   ]
  },
  {
   "cell_type": "code",
   "execution_count": 38,
   "metadata": {},
   "outputs": [
    {
     "name": "stdout",
     "output_type": "stream",
     "text": [
      "daftar belanja :  {'bayam': 7500, 'terong': 14000, 'kubis': 18000, 'labu': 16000, 'brokoli': 22500}\n",
      "\n",
      "total belanja : Rp. 78000\n",
      "\n",
      "anda mendapat diskon sebesar  15 persen\n",
      "total belanja menjadi  66300.0\n"
     ]
    }
   ],
   "source": [
    "\n",
    "tuple_sayur = 'bayam','terong','kubis','labu','brokoli'\n",
    "\n",
    "sayur = {\n",
    "         'bayam':1500,\n",
    "         'terong':2000,\n",
    "         'kubis':3000,\n",
    "         'labu':4000,\n",
    "         'brokoli':4500\n",
    "         }\n",
    "\n",
    "pembelian = {}\n",
    "\n",
    "while(1) :\n",
    "    \n",
    "    kode_sayur = int(input(\"Masukkan kode sayur\"))\n",
    "    jumlah_sayur = int(input(\"Masukkan jumlah sayur\"))\n",
    "\n",
    "    total_harga_sayur = sayur[tuple_sayur[kode_sayur - 1]] * jumlah_sayur\n",
    "\n",
    "    pembelian[tuple_sayur[kode_sayur - 1]] = total_harga_sayur\n",
    "\n",
    "    total_belanja = total_belanja + total_harga_sayur\n",
    "\n",
    "    loop_flag = input('ada item lain yang ingin dibeli? (y/n)')\n",
    "\n",
    "    if(loop_flag == 'n') :\n",
    "        break\n",
    "\n",
    "print('daftar belanja : ', pembelian)\n",
    "print('\\ntotal belanja : Rp.', total_belanja)\n",
    "\n",
    "x = 0\n",
    "\n",
    "if total_belanja > 20000 and total_belanja < 50000 :\n",
    "    x = 10\n",
    "    total_belanja = total_belanja - (total_belanja * 0.1)\n",
    "elif(total_belanja > 50000 and total_belanja < 100000) :\n",
    "    x = 15\n",
    "    total_belanja = total_belanja - (total_belanja * 0.15)\n",
    "elif(total_belanja > 100000) :\n",
    "    x = 20\n",
    "    total_belanja = total_belanja - (total_belanja * 0.2)\n",
    "else :\n",
    "    x = 0\n",
    "    total_belanja = total_belanja\n",
    "\n",
    "print('\\nanda mendapat diskon sebesar ',x,'persen')\n",
    "print('total belanja menjadi ',total_belanja)\n",
    "\n",
    "total_harga_sayur = 0 #reset variabel\n",
    "total_belanja = 0\n",
    "pembelian.clear()"
   ]
  },
  {
   "cell_type": "code",
   "execution_count": 42,
   "metadata": {},
   "outputs": [
    {
     "name": "stdout",
     "output_type": "stream",
     "text": [
      "perhitungan satu :  43200.0\n",
      "perhitungan dua :  36450.0\n",
      "perhitungan tiga :  103200.0\n",
      "perhitungan empat :  66300.0\n"
     ]
    }
   ],
   "source": [
    "bayam = 1500\n",
    "terong = 2000\n",
    "kubis = 3000\n",
    "labu = 4000\n",
    "brokoli = 4500\n",
    "\n",
    "total_1 = 5*bayam + 3*kubis + 7*brokoli\n",
    "total_2 = 8*terong + 5*labu + 3*bayam\n",
    "total_3 = 8*brokoli + 10*labu + 15*kubis + 4*terong\n",
    "total_4 = 5*bayam + 7*terong + 6*kubis + 4*labu + 5*brokoli\n",
    "\n",
    "print('perhitungan satu : ',  total_1-(0.1*total_1))\n",
    "print('perhitungan dua : ',   total_2-(0.1*total_2))\n",
    "print('perhitungan tiga : ',  total_3-(0.2*total_3))\n",
    "print('perhitungan empat : ', total_4-(0.15*total_4))\n",
    "\n"
   ]
  }
 ],
 "metadata": {
  "interpreter": {
   "hash": "31f2aee4e71d21fbe5cf8b01ff0e069b9275f58929596ceb00d14d90e3e16cd6"
  },
  "kernelspec": {
   "display_name": "Python 3.8.10 64-bit",
   "language": "python",
   "name": "python3"
  },
  "language_info": {
   "codemirror_mode": {
    "name": "ipython",
    "version": 3
   },
   "file_extension": ".py",
   "mimetype": "text/x-python",
   "name": "python",
   "nbconvert_exporter": "python",
   "pygments_lexer": "ipython3",
   "version": "3.8.10"
  },
  "orig_nbformat": 4
 },
 "nbformat": 4,
 "nbformat_minor": 2
}
