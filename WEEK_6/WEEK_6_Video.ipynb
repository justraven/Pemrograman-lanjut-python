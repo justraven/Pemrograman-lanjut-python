{
 "cells": [
  {
   "cell_type": "markdown",
   "metadata": {},
   "source": [
    "1. TUPLE"
   ]
  },
  {
   "cell_type": "code",
   "execution_count": 1,
   "metadata": {},
   "outputs": [
    {
     "name": "stdout",
     "output_type": "stream",
     "text": [
      "<class 'set'>\n",
      "<class 'list'>\n"
     ]
    }
   ],
   "source": [
    "iniTuple = {1.5,\"alim\",10,True}\n",
    "iniList = [1.5,\"alim\",10,True]\n",
    "\n",
    "print(type(iniTuple))\n",
    "print(type(iniList))"
   ]
  },
  {
   "cell_type": "code",
   "execution_count": 4,
   "metadata": {},
   "outputs": [
    {
     "name": "stdout",
     "output_type": "stream",
     "text": [
      "<class 'tuple'>\n"
     ]
    }
   ],
   "source": [
    "tuple_1 = 1.5,\"alim\",10,True\n",
    "print(type(tuple_1))"
   ]
  },
  {
   "cell_type": "code",
   "execution_count": 2,
   "metadata": {},
   "outputs": [
    {
     "name": "stdout",
     "output_type": "stream",
     "text": [
      "<class 'list'>\n"
     ]
    }
   ],
   "source": [
    "list_1 = [50]\n",
    "print(type(list_1))"
   ]
  },
  {
   "cell_type": "code",
   "execution_count": 6,
   "metadata": {},
   "outputs": [
    {
     "name": "stdout",
     "output_type": "stream",
     "text": [
      "<class 'int'>\n",
      "<class 'int'>\n",
      "<class 'tuple'>\n"
     ]
    }
   ],
   "source": [
    "tuple_2 = (50)\n",
    "tuple_3 = 50\n",
    "tuple_4 = (50,)\n",
    "\n",
    "print(type(tuple_2))\n",
    "print(type(tuple_3))\n",
    "print(type(tuple_4))"
   ]
  },
  {
   "cell_type": "code",
   "execution_count": 10,
   "metadata": {},
   "outputs": [
    {
     "name": "stdout",
     "output_type": "stream",
     "text": [
      "5\n",
      "(6, 7, 8)\n"
     ]
    }
   ],
   "source": [
    "tuple_5 = 1,2,3,4,5,6,7,8,9,10\n",
    "print(tuple_5[4])\n",
    "print(tuple_5[5:8])"
   ]
  },
  {
   "cell_type": "code",
   "execution_count": 11,
   "metadata": {},
   "outputs": [
    {
     "name": "stdout",
     "output_type": "stream",
     "text": [
      "(1, 2, 3, 4, 5, 6, 7, 8, 9, 10, 10, 20, 30)\n"
     ]
    }
   ],
   "source": [
    "tuple_5 = 1,2,3,4,5,6,7,8,9,10\n",
    "tuple_6 = 10,20,30\n",
    "\n",
    "tuple_7 = tuple_5+tuple_6\n",
    "print(tuple_7)\n",
    "\n"
   ]
  },
  {
   "cell_type": "code",
   "execution_count": 12,
   "metadata": {},
   "outputs": [
    {
     "name": "stdout",
     "output_type": "stream",
     "text": [
      "(10, 20, 30, 10, 20, 30, 10, 20, 30)\n"
     ]
    }
   ],
   "source": [
    "tuple_6 = 10,20,30\n",
    "tuple_8 = tuple_6*3\n",
    "print(tuple_8)"
   ]
  },
  {
   "cell_type": "markdown",
   "metadata": {},
   "source": [
    "2. DICTIONARY"
   ]
  },
  {
   "cell_type": "code",
   "execution_count": 13,
   "metadata": {},
   "outputs": [
    {
     "name": "stdout",
     "output_type": "stream",
     "text": [
      "<class 'dict'>\n",
      "apple\n"
     ]
    }
   ],
   "source": [
    "kamus_eng = {'apel':'apple','anggur':'grape','jeruk':'orange','belimbing':'starfruit'}\n",
    "print(type(kamus_eng))\n",
    "print(kamus_eng['apel'])"
   ]
  },
  {
   "cell_type": "code",
   "execution_count": 14,
   "metadata": {},
   "outputs": [
    {
     "name": "stdout",
     "output_type": "stream",
     "text": [
      "9.0\n"
     ]
    }
   ],
   "source": [
    "nilai_Matek = {'alim':9.0,'satria':6.5}\n",
    "print(nilai_Matek['alim'])"
   ]
  },
  {
   "cell_type": "code",
   "execution_count": 15,
   "metadata": {},
   "outputs": [
    {
     "name": "stdout",
     "output_type": "stream",
     "text": [
      "{'alim': 9.0, 'satria': 6.5, 'andi': 9.8}\n"
     ]
    }
   ],
   "source": [
    "nilai_Matek['andi'] = 9.8\n",
    "print(nilai_Matek)"
   ]
  },
  {
   "cell_type": "code",
   "execution_count": 16,
   "metadata": {},
   "outputs": [
    {
     "name": "stdout",
     "output_type": "stream",
     "text": [
      "{'alim': 9.0, 'satria': 90, 'andi': 9.8}\n"
     ]
    }
   ],
   "source": [
    "nilai_Matek['satria'] = 90\n",
    "print(nilai_Matek)"
   ]
  },
  {
   "cell_type": "code",
   "execution_count": 17,
   "metadata": {},
   "outputs": [
    {
     "name": "stdout",
     "output_type": "stream",
     "text": [
      "{'alim': 9.0, 'andi': 9.8}\n"
     ]
    }
   ],
   "source": [
    "del nilai_Matek['satria']\n",
    "print(nilai_Matek)"
   ]
  },
  {
   "cell_type": "code",
   "execution_count": 24,
   "metadata": {},
   "outputs": [
    {
     "name": "stdout",
     "output_type": "stream",
     "text": [
      "True\n"
     ]
    },
    {
     "ename": "KeyError",
     "evalue": "1",
     "output_type": "error",
     "traceback": [
      "\u001b[0;31m---------------------------------------------------------------------------\u001b[0m",
      "\u001b[0;31mKeyError\u001b[0m                                  Traceback (most recent call last)",
      "\u001b[1;32m/home/alimsatria/Documents/MATERI KULIAH/PEMROGRAMAN LANJUT/WEEK_6/WEEK_6_Video.ipynb Cell 15'\u001b[0m in \u001b[0;36m<module>\u001b[0;34m\u001b[0m\n\u001b[1;32m      <a href='vscode-notebook-cell:/home/alimsatria/Documents/MATERI%20KULIAH/PEMROGRAMAN%20LANJUT/WEEK_6/WEEK_6_Video.ipynb#ch0000014?line=0'>1</a>\u001b[0m data_pasien \u001b[39m=\u001b[39m {\u001b[39m'\u001b[39m\u001b[39mnama\u001b[39m\u001b[39m'\u001b[39m:\u001b[39m'\u001b[39m\u001b[39malim\u001b[39m\u001b[39m'\u001b[39m,\u001b[39m'\u001b[39m\u001b[39mumur\u001b[39m\u001b[39m'\u001b[39m:\u001b[39m22\u001b[39m,\u001b[39m'\u001b[39m\u001b[39mgender\u001b[39m\u001b[39m'\u001b[39m:\u001b[39mTrue\u001b[39;00m,\u001b[39m'\u001b[39m\u001b[39mBB\u001b[39m\u001b[39m'\u001b[39m:\u001b[39m60\u001b[39m}\n\u001b[1;32m      <a href='vscode-notebook-cell:/home/alimsatria/Documents/MATERI%20KULIAH/PEMROGRAMAN%20LANJUT/WEEK_6/WEEK_6_Video.ipynb#ch0000014?line=1'>2</a>\u001b[0m \u001b[39mprint\u001b[39m(data_pasien[\u001b[39m'\u001b[39m\u001b[39mgender\u001b[39m\u001b[39m'\u001b[39m])\n\u001b[0;32m----> <a href='vscode-notebook-cell:/home/alimsatria/Documents/MATERI%20KULIAH/PEMROGRAMAN%20LANJUT/WEEK_6/WEEK_6_Video.ipynb#ch0000014?line=2'>3</a>\u001b[0m \u001b[39mprint\u001b[39m(data_pasien[\u001b[39m1\u001b[39;49m])\n",
      "\u001b[0;31mKeyError\u001b[0m: 1"
     ]
    }
   ],
   "source": [
    "data_pasien = {'nama':'alim','umur':22,'gender':True,'BB':60}\n",
    "print(data_pasien['gender'])"
   ]
  },
  {
   "cell_type": "code",
   "execution_count": 20,
   "metadata": {},
   "outputs": [
    {
     "name": "stdout",
     "output_type": "stream",
     "text": [
      "['nama', 'umur', 'gender', 'BB']\n"
     ]
    }
   ],
   "source": [
    "data_pasien = {'nama':'alim','umur':22,'gender':True,'BB':60}\n",
    "item_data = []\n",
    "\n",
    "for i in data_pasien.keys() :\n",
    "    item_data.append(i)\n",
    "print(item_data)"
   ]
  },
  {
   "cell_type": "code",
   "execution_count": 21,
   "metadata": {},
   "outputs": [
    {
     "name": "stdout",
     "output_type": "stream",
     "text": [
      "['alim', 22, True, 60]\n"
     ]
    }
   ],
   "source": [
    "data_alim = []\n",
    "\n",
    "for i in data_pasien.values() :\n",
    "    data_alim.append(i)\n",
    "print(data_alim)"
   ]
  },
  {
   "cell_type": "code",
   "execution_count": 22,
   "metadata": {},
   "outputs": [
    {
     "name": "stdout",
     "output_type": "stream",
     "text": [
      "apel Bahasa inggrisnya adalah  apple\n",
      "anggur Bahasa inggrisnya adalah  grape\n",
      "jeruk Bahasa inggrisnya adalah  orange\n",
      "belimbing Bahasa inggrisnya adalah  starfruit\n"
     ]
    }
   ],
   "source": [
    "kamus_eng = {'apel':'apple','anggur':'grape','jeruk':'orange','belimbing':'starfruit'}\n",
    "\n",
    "for i,j in kamus_eng.items() :\n",
    "    print(i, \"Bahasa inggrisnya adalah \",j)"
   ]
  }
 ],
 "metadata": {
  "interpreter": {
   "hash": "31f2aee4e71d21fbe5cf8b01ff0e069b9275f58929596ceb00d14d90e3e16cd6"
  },
  "kernelspec": {
   "display_name": "Python 3.8.10 64-bit",
   "language": "python",
   "name": "python3"
  },
  "language_info": {
   "codemirror_mode": {
    "name": "ipython",
    "version": 3
   },
   "file_extension": ".py",
   "mimetype": "text/x-python",
   "name": "python",
   "nbconvert_exporter": "python",
   "pygments_lexer": "ipython3",
   "version": "3.8.10"
  },
  "orig_nbformat": 4
 },
 "nbformat": 4,
 "nbformat_minor": 2
}
