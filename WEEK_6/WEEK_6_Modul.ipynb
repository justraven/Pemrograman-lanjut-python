{
 "cells": [
  {
   "cell_type": "markdown",
   "metadata": {},
   "source": [
    "1. TUPLE"
   ]
  },
  {
   "cell_type": "code",
   "execution_count": 2,
   "metadata": {},
   "outputs": [
    {
     "name": "stdout",
     "output_type": "stream",
     "text": [
      "{1, 2, None, (3, 4), 'a string', (5, 6)}\n",
      "[1, 2, True, 'a string', (3, 4), (5, 6), None]\n"
     ]
    }
   ],
   "source": [
    "my_tuple = {1,2,'a string',(3,4),(5,6),None}\n",
    "print(my_tuple)\n",
    "\n",
    "my_list = [1,2,True,'a string',(3,4),(5,6),None]\n",
    "print(my_list)"
   ]
  },
  {
   "cell_type": "code",
   "execution_count": 3,
   "metadata": {},
   "outputs": [
    {
     "name": "stdout",
     "output_type": "stream",
     "text": [
      "(1, 2, 4, 8)\n",
      "(1.0, 0.5, 0.25, 0.125)\n"
     ]
    }
   ],
   "source": [
    "tuple_1 = (1,2,4,8)\n",
    "tuple_2 = 1., .5, .25, .125\n",
    "\n",
    "print(tuple_1)\n",
    "print(tuple_2)"
   ]
  },
  {
   "cell_type": "code",
   "execution_count": 4,
   "metadata": {},
   "outputs": [
    {
     "name": "stdout",
     "output_type": "stream",
     "text": [
      "<class 'tuple'>\n"
     ]
    }
   ],
   "source": [
    "empty_tuple = ()\n",
    "print(type(empty_tuple))"
   ]
  },
  {
   "cell_type": "code",
   "execution_count": 5,
   "metadata": {},
   "outputs": [
    {
     "name": "stdout",
     "output_type": "stream",
     "text": [
      "<class 'tuple'>\n",
      "<class 'int'>\n"
     ]
    }
   ],
   "source": [
    "tup_1 = (50,)\n",
    "tup_2 = (50)\n",
    "\n",
    "print(type(tup_1))\n",
    "print(type(tup_2))"
   ]
  },
  {
   "cell_type": "markdown",
   "metadata": {},
   "source": [
    "AKSES NILAI PADA TUPEL"
   ]
  },
  {
   "cell_type": "code",
   "execution_count": 6,
   "metadata": {},
   "outputs": [
    {
     "name": "stdout",
     "output_type": "stream",
     "text": [
      "tup_1[0]  fisika\n",
      "tup_2[1:5]  (2, 3, 4, 5)\n"
     ]
    }
   ],
   "source": [
    "tup_1 = ('fisika','kimia',1993,2017)\n",
    "tup_2 = (1,2,3,4,5,6,7)\n",
    "print('tup_1[0] ',tup_1[0])\n",
    "print('tup_2[1:5] ',tup_2[1:5])"
   ]
  },
  {
   "cell_type": "markdown",
   "metadata": {},
   "source": [
    "UPDATE NILAI"
   ]
  },
  {
   "cell_type": "code",
   "execution_count": 7,
   "metadata": {},
   "outputs": [
    {
     "name": "stdout",
     "output_type": "stream",
     "text": [
      "(12, 34.16, 'abc', 'xyz')\n"
     ]
    }
   ],
   "source": [
    "tup_1 = (12,34.16)\n",
    "tup_2 = ('abc','xyz')\n",
    "\n",
    "tup_3 = tup_1 + tup_2\n",
    "print(tup_3)"
   ]
  },
  {
   "cell_type": "code",
   "execution_count": 8,
   "metadata": {},
   "outputs": [
    {
     "name": "stdout",
     "output_type": "stream",
     "text": [
      "{1993, 'fisika', 'kimia', 2017}\n"
     ]
    },
    {
     "ename": "NameError",
     "evalue": "name 'tup' is not defined",
     "output_type": "error",
     "traceback": [
      "\u001b[0;31m---------------------------------------------------------------------------\u001b[0m",
      "\u001b[0;31mNameError\u001b[0m                                 Traceback (most recent call last)",
      "\u001b[1;32m/home/alimsatria/Documents/MATERI KULIAH/PEMROGRAMAN LANJUT/WEEK_6/WEEK_6_Modul.ipynb Cell 8'\u001b[0m in \u001b[0;36m<module>\u001b[0;34m\u001b[0m\n\u001b[1;32m      <a href='vscode-notebook-cell:/home/alimsatria/Documents/MATERI%20KULIAH/PEMROGRAMAN%20LANJUT/WEEK_6/WEEK_6_Modul.ipynb#ch0000007?line=1'>2</a>\u001b[0m \u001b[39mprint\u001b[39m(tup)\n\u001b[1;32m      <a href='vscode-notebook-cell:/home/alimsatria/Documents/MATERI%20KULIAH/PEMROGRAMAN%20LANJUT/WEEK_6/WEEK_6_Modul.ipynb#ch0000007?line=2'>3</a>\u001b[0m \u001b[39mdel\u001b[39;00m tup\n\u001b[0;32m----> <a href='vscode-notebook-cell:/home/alimsatria/Documents/MATERI%20KULIAH/PEMROGRAMAN%20LANJUT/WEEK_6/WEEK_6_Modul.ipynb#ch0000007?line=3'>4</a>\u001b[0m \u001b[39mprint\u001b[39m(\u001b[39m'\u001b[39m\u001b[39msetelah tuple dihapus \u001b[39m\u001b[39m'\u001b[39m,tup)\n",
      "\u001b[0;31mNameError\u001b[0m: name 'tup' is not defined"
     ]
    }
   ],
   "source": [
    "tup = {'fisika','kimia',1993,2017}\n",
    "print(tup)\n",
    "del tup\n",
    "print('setelah tuple dihapus ',tup)"
   ]
  },
  {
   "cell_type": "markdown",
   "metadata": {},
   "source": [
    "DICTIONARY"
   ]
  },
  {
   "cell_type": "code",
   "execution_count": 9,
   "metadata": {},
   "outputs": [
    {
     "name": "stdout",
     "output_type": "stream",
     "text": [
      "{'cat': 'chat', 'dog': 'chien', 'horse': 'cheval'}\n",
      "{'boss': 5551234567, 'suzy': 22657854310}\n",
      "{}\n"
     ]
    }
   ],
   "source": [
    "dict_1 = {'cat':'chat','dog':'chien','horse':'cheval'}\n",
    "phone_num = {'boss' : 5551234567, 'suzy' : 22657854310}\n",
    "empty_dict = {}\n",
    "\n",
    "print(dict_1)\n",
    "print(phone_num)\n",
    "print(empty_dict)"
   ]
  },
  {
   "cell_type": "markdown",
   "metadata": {},
   "source": [
    "AKSES NILAI PADA DICTIONARY"
   ]
  },
  {
   "cell_type": "code",
   "execution_count": 21,
   "metadata": {},
   "outputs": [
    {
     "name": "stdout",
     "output_type": "stream",
     "text": [
      "chat\n",
      "22657854310\n"
     ]
    }
   ],
   "source": [
    "dict_1 = {'cat':'chat','dog':'chien','horse':'cheval'}\n",
    "phone_num = {'boss' : 5551234567, 'suzy' : 22657854310}\n",
    "\n",
    "print(dict_1['cat'])\n",
    "print(phone_num['suzy'])"
   ]
  },
  {
   "cell_type": "markdown",
   "metadata": {},
   "source": [
    "UPDATE NILAI PADA DICTIONARY"
   ]
  },
  {
   "cell_type": "code",
   "execution_count": 11,
   "metadata": {},
   "outputs": [
    {
     "name": "stdout",
     "output_type": "stream",
     "text": [
      "{'cat': 'minou', 'dog': 'chien', 'horse': 'cheval'}\n",
      "{'cat': 'minou', 'dog': 'chien', 'horse': 'cheval', 'swan': 'cygne'}\n"
     ]
    }
   ],
   "source": [
    "dict_1 = {'cat':'chat','dog':'chien','horse':'cheval'}\n",
    "\n",
    "dict_1['cat'] = 'minou'\n",
    "print(dict_1)\n",
    "dict_1['swan'] = 'cygne'\n",
    "print(dict_1)"
   ]
  },
  {
   "cell_type": "code",
   "execution_count": 15,
   "metadata": {},
   "outputs": [
    {
     "name": "stdout",
     "output_type": "stream",
     "text": [
      "{'age': 7, 'class': 'first'}\n"
     ]
    },
    {
     "ename": "NameError",
     "evalue": "name 'data_siswa' is not defined",
     "output_type": "error",
     "traceback": [
      "\u001b[0;31m---------------------------------------------------------------------------\u001b[0m",
      "\u001b[0;31mNameError\u001b[0m                                 Traceback (most recent call last)",
      "\u001b[1;32m/home/alimsatria/Documents/MATERI KULIAH/PEMROGRAMAN LANJUT/WEEK_6/WEEK_6_Modul.ipynb Cell 12'\u001b[0m in \u001b[0;36m<module>\u001b[0;34m\u001b[0m\n\u001b[1;32m      <a href='vscode-notebook-cell:/home/alimsatria/Documents/MATERI%20KULIAH/PEMROGRAMAN%20LANJUT/WEEK_6/WEEK_6_Modul.ipynb#ch0000012?line=2'>3</a>\u001b[0m \u001b[39mprint\u001b[39m(data_siswa)\n\u001b[1;32m      <a href='vscode-notebook-cell:/home/alimsatria/Documents/MATERI%20KULIAH/PEMROGRAMAN%20LANJUT/WEEK_6/WEEK_6_Modul.ipynb#ch0000012?line=4'>5</a>\u001b[0m \u001b[39mdel\u001b[39;00m data_siswa\n\u001b[0;32m----> <a href='vscode-notebook-cell:/home/alimsatria/Documents/MATERI%20KULIAH/PEMROGRAMAN%20LANJUT/WEEK_6/WEEK_6_Modul.ipynb#ch0000012?line=5'>6</a>\u001b[0m \u001b[39mprint\u001b[39m(data_siswa)\n",
      "\u001b[0;31mNameError\u001b[0m: name 'data_siswa' is not defined"
     ]
    }
   ],
   "source": [
    "data_siswa = {'name':'zara','age':7,'class':'first'}\n",
    "del data_siswa['name']\n",
    "print(data_siswa)\n",
    "\n",
    "del data_siswa\n",
    "print(data_siswa)"
   ]
  },
  {
   "cell_type": "code",
   "execution_count": 16,
   "metadata": {},
   "outputs": [
    {
     "name": "stdout",
     "output_type": "stream",
     "text": [
      "{}\n"
     ]
    }
   ],
   "source": [
    "data_siswa = {'name':'zara','age':7,'class':'first'}\n",
    "data_siswa.clear()\n",
    "print(data_siswa)"
   ]
  },
  {
   "cell_type": "markdown",
   "metadata": {},
   "source": [
    "KEYS,VALUES, DAN ITEMS"
   ]
  },
  {
   "cell_type": "code",
   "execution_count": 18,
   "metadata": {},
   "outputs": [
    {
     "name": "stdout",
     "output_type": "stream",
     "text": [
      "cat --> chat\n",
      "dog --> chien\n",
      "horse --> cheval\n",
      "\n",
      "cat --> chat\n",
      "dog --> chien\n",
      "horse --> cheval\n"
     ]
    }
   ],
   "source": [
    "dict_1 = {'cat':'chat','dog':'chien','horse':'cheval'}\n",
    "\n",
    "for key in dict_1.keys() :\n",
    "    print(key,'-->',dict_1[key])\n",
    "\n",
    "print('')\n",
    "\n",
    "for key in sorted(dict_1.keys()) :\n",
    "    print(key,'-->',dict_1[key])"
   ]
  },
  {
   "cell_type": "code",
   "execution_count": 19,
   "metadata": {},
   "outputs": [
    {
     "name": "stdout",
     "output_type": "stream",
     "text": [
      "chat\n",
      "chien\n",
      "cheval\n"
     ]
    }
   ],
   "source": [
    "dict_1 = {'cat':'chat','dog':'chien','horse':'cheval'}\n",
    "\n",
    "for french in dict_1.values() :\n",
    "    print(french)"
   ]
  },
  {
   "cell_type": "code",
   "execution_count": 20,
   "metadata": {},
   "outputs": [
    {
     "name": "stdout",
     "output_type": "stream",
     "text": [
      "cat --> chat\n",
      "dog --> chien\n",
      "horse --> cheval\n"
     ]
    }
   ],
   "source": [
    "dict_1 = {'cat':'chat','dog':'chien','horse':'cheval'}\n",
    "\n",
    "for english,french in dict_1.items() :\n",
    "    print(english,'-->',french)"
   ]
  }
 ],
 "metadata": {
  "interpreter": {
   "hash": "31f2aee4e71d21fbe5cf8b01ff0e069b9275f58929596ceb00d14d90e3e16cd6"
  },
  "kernelspec": {
   "display_name": "Python 3.8.10 64-bit",
   "language": "python",
   "name": "python3"
  },
  "language_info": {
   "codemirror_mode": {
    "name": "ipython",
    "version": 3
   },
   "file_extension": ".py",
   "mimetype": "text/x-python",
   "name": "python",
   "nbconvert_exporter": "python",
   "pygments_lexer": "ipython3",
   "version": "3.8.10"
  },
  "orig_nbformat": 4
 },
 "nbformat": 4,
 "nbformat_minor": 2
}
