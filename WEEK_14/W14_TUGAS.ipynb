{
 "cells": [
  {
   "cell_type": "markdown",
   "metadata": {},
   "source": [
    "- SOAL 1"
   ]
  },
  {
   "cell_type": "markdown",
   "metadata": {},
   "source": [
    "- program satu"
   ]
  },
  {
   "cell_type": "code",
   "execution_count": 3,
   "metadata": {},
   "outputs": [
    {
     "name": "stdout",
     "output_type": "stream",
     "text": [
      "0\n"
     ]
    }
   ],
   "source": [
    "class stack :\n",
    "\n",
    "    def __init__(self) :\n",
    "        self.__stacklist = []\n",
    "    \n",
    "    def push(self,val) :\n",
    "        self.__stacklist.append(val)\n",
    "    \n",
    "    def pop(self) :\n",
    "        val = self.__stacklist[-1]\n",
    "        del self.__stacklist[-1]\n",
    "        return val\n",
    "\n",
    "littleStack = stack()\n",
    "anotherstack = stack()\n",
    "funnystack = stack()\n",
    "\n",
    "littleStack.push(1)\n",
    "anotherstack.push(littleStack.pop() + 1)\n",
    "funnystack.push(anotherstack.pop() - 2)\n",
    "\n",
    "print(funnystack.pop())"
   ]
  },
  {
   "cell_type": "markdown",
   "metadata": {},
   "source": [
    "- program dua"
   ]
  },
  {
   "cell_type": "code",
   "execution_count": 4,
   "metadata": {},
   "outputs": [
    {
     "name": "stdout",
     "output_type": "stream",
     "text": [
      "10\n",
      "4\n",
      "3\n",
      "2\n",
      "1\n",
      "0\n"
     ]
    }
   ],
   "source": [
    "class addingStack(stack) :\n",
    "    \n",
    "    def __init__(self) :\n",
    "        stack.__init__(self)\n",
    "        self.__sum = 0\n",
    "    \n",
    "    def getSum(self) :\n",
    "        return self.__sum\n",
    "    \n",
    "    def push(self,val) :\n",
    "        self.__sum += val\n",
    "        stack.push(self,val)\n",
    "    \n",
    "    def pop(self) :\n",
    "        val = stack.pop(self)\n",
    "        self.__sum -= val\n",
    "        return val\n",
    "\n",
    "stackObject = addingStack()\n",
    "\n",
    "for i in range(5) :\n",
    "    stackObject.push(i)\n",
    "print(stackObject.getSum())\n",
    "\n",
    "for i in range(5) :\n",
    "    print(stackObject.pop())"
   ]
  },
  {
   "cell_type": "markdown",
   "metadata": {},
   "source": [
    "- SOAL 2"
   ]
  },
  {
   "cell_type": "markdown",
   "metadata": {},
   "source": [
    "SOAL 1 DAN 2"
   ]
  },
  {
   "cell_type": "code",
   "execution_count": 1,
   "metadata": {},
   "outputs": [],
   "source": [
    "class Warga() :\n",
    "\n",
    "    def __init__(self,nama,usia,alamat) :\n",
    "        self.nama = nama\n",
    "        self.usia = usia\n",
    "        self.alamat = alamat\n",
    "\n",
    "class Warga() :\n",
    "    pass"
   ]
  },
  {
   "cell_type": "markdown",
   "metadata": {},
   "source": [
    "SOAL 3 4 5 6 7 dan 8"
   ]
  },
  {
   "cell_type": "code",
   "execution_count": 12,
   "metadata": {},
   "outputs": [
    {
     "name": "stdout",
     "output_type": "stream",
     "text": [
      "#### KEPALA RT ####\n",
      "nama\t\t:  Djoko  \n",
      "usia\t\t:  53 \n",
      "posisi\t\t:  Ketua RT \n",
      "tunjangan\t:  100000\n",
      "data dalam dictionary :  {'posisi': 'Ketua RT', 'tunjangan': 100000, 'nama': 'Djoko', 'usia': 53}\n",
      "\n",
      "#### KEPALA DESA ####\n",
      "nama\t\t:  Andi \n",
      "usia\t\t:  60 \n",
      "tunjangan\t:  50000\n"
     ]
    }
   ],
   "source": [
    "class perangkatDesa() :\n",
    "\n",
    "    def __init__(self,posisi,tunjangan) :\n",
    "        self.posisi = posisi\n",
    "        self.tunjangan = tunjangan\n",
    "\n",
    "class kepalaRT(perangkatDesa):\n",
    "\n",
    "    def __init__(self,nama,usia) :\n",
    "        super().__init__(posisi= 'Ketua RT',tunjangan=100000)\n",
    "        self.nama = nama\n",
    "        self.usia = usia\n",
    "    \n",
    "    def getInfo(self) :\n",
    "        print('nama\\t\\t: ',self.nama,' \\nusia\\t\\t: ',self.usia,'\\nposisi\\t\\t: ',self.posisi,'\\ntunjangan\\t: ',self.tunjangan)\n",
    "\n",
    "print('#### KEPALA RT ####')\n",
    "data_1 = kepalaRT('Djoko',53)\n",
    "data_1.getInfo()\n",
    "print('data dalam dictionary : ',data_1.__dict__)\n",
    "\n",
    "class kepalaDesa(perangkatDesa):\n",
    "\n",
    "    def __init__(self,nama,usia) :\n",
    "        self.nama = nama\n",
    "        self.usia = usia\n",
    "        self.__tunjangan = 10000\n",
    "    \n",
    "    def totalTunjangan(self,tahun) :\n",
    "        return (self.__tunjangan*tahun)\n",
    "    \n",
    "    def getInfo(self,tunjangan) :\n",
    "        print('nama\\t\\t: ',self.nama, '\\nusia\\t\\t: ',self.usia,'\\ntunjangan\\t: ',tunjangan)\n",
    "\n",
    "print('\\n#### KEPALA DESA ####')\n",
    "data_2 = kepalaDesa('Andi',60)\n",
    "data_2.getInfo(data_2.totalTunjangan(5))"
   ]
  },
  {
   "cell_type": "markdown",
   "metadata": {},
   "source": [
    "- SOAL 3"
   ]
  },
  {
   "cell_type": "markdown",
   "metadata": {},
   "source": [
    "- atribut dan method"
   ]
  },
  {
   "cell_type": "code",
   "execution_count": 11,
   "metadata": {},
   "outputs": [
    {
     "name": "stdout",
     "output_type": "stream",
     "text": [
      "\n",
      "Nama\t\t:  Andini \n",
      "Kelas\t\t:  VIIA \n",
      "mata pelajaran\t:  ['Matematika', 'Biologi', 'Kimia'] \n",
      "nilai\t\t:  [80, 70, 86]\n"
     ]
    }
   ],
   "source": [
    "class dataSiswa() :\n",
    "\n",
    "    def __init__(self,nama,kelas) :\n",
    "        self.nama = nama\n",
    "        self.kelas = kelas\n",
    "    \n",
    "class nilai(dataSiswa) :\n",
    "\n",
    "    def __init__(self,nama,kelas) :\n",
    "        super().__init__(nama,kelas)\n",
    "        self.__mapel = []\n",
    "        self.__nilai = []\n",
    "\n",
    "    def inputNilai(self,mapel,nilai) :\n",
    "        self.__mapel.append(mapel)\n",
    "        self.__nilai.append(nilai)\n",
    "\n",
    "    def getInfo(self) :\n",
    "        print('\\nNama\\t\\t: ',self.nama,'\\nKelas\\t\\t: ',self.kelas,'\\nmata pelajaran\\t: ',self.__mapel,'\\nnilai\\t\\t: ',self.__nilai)\n",
    "\n",
    "data = nilai('Andini','VIIA')\n",
    "data.inputNilai('Matematika',80)\n",
    "data.inputNilai('Biologi',70)\n",
    "data.inputNilai('Kimia',86)\n",
    "data.getInfo()"
   ]
  }
 ],
 "metadata": {
  "interpreter": {
   "hash": "916dbcbb3f70747c44a77c7bcd40155683ae19c65e1c03b4aa3499c5328201f1"
  },
  "kernelspec": {
   "display_name": "Python 3.8.10 64-bit",
   "language": "python",
   "name": "python3"
  },
  "language_info": {
   "codemirror_mode": {
    "name": "ipython",
    "version": 3
   },
   "file_extension": ".py",
   "mimetype": "text/x-python",
   "name": "python",
   "nbconvert_exporter": "python",
   "pygments_lexer": "ipython3",
   "version": "3.8.10"
  },
  "orig_nbformat": 4
 },
 "nbformat": 4,
 "nbformat_minor": 2
}
