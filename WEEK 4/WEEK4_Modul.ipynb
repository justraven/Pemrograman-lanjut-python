{
 "cells": [
  {
   "cell_type": "markdown",
   "metadata": {},
   "source": [
    "1. Pembuatan list"
   ]
  },
  {
   "cell_type": "code",
   "execution_count": 2,
   "metadata": {},
   "outputs": [
    {
     "name": "stdout",
     "output_type": "stream",
     "text": [
      "List 1 :  ['kimia', 'fisika', 1993, 2017] \n",
      "List 2 :  [1, 2, 3, 4, 5] \n",
      "List 3 :  ['a', 'b', 'c', 'd']\n"
     ]
    }
   ],
   "source": [
    "list_1 = [\"kimia\",\"fisika\",1993,2017]\n",
    "list_2 = [1, 2, 3, 4, 5]\n",
    "list_3 = [\"a\", \"b\", \"c\", \"d\"]\n",
    "\n",
    "print(\"List 1 : \",list_1,\"\\nList 2 : \",list_2, \"\\nList 3 : \", list_3)"
   ]
  },
  {
   "cell_type": "markdown",
   "metadata": {},
   "source": [
    "2. Menambah Elemen dalam List"
   ]
  },
  {
   "cell_type": "code",
   "execution_count": 3,
   "metadata": {},
   "outputs": [
    {
     "name": "stdout",
     "output_type": "stream",
     "text": [
      "['durian', 'mangga', 'apel', 'jeruk']\n"
     ]
    }
   ],
   "source": [
    "#append\n",
    "\n",
    "buah = [\"durian\",\"mangga\",\"apel\"]\n",
    "buah.append(\"jeruk\")\n",
    "print(buah)"
   ]
  },
  {
   "cell_type": "code",
   "execution_count": 4,
   "metadata": {},
   "outputs": [
    {
     "name": "stdout",
     "output_type": "stream",
     "text": [
      "[2, 3, 4, 5, 6, 7, 8, 9, 10, 11]\n"
     ]
    }
   ],
   "source": [
    "#append\n",
    "myList = []\n",
    "\n",
    "for i in range(10) :\n",
    "    myList.append(i+2)\n",
    "print(myList)"
   ]
  },
  {
   "cell_type": "code",
   "execution_count": 5,
   "metadata": {},
   "outputs": [
    {
     "name": "stdout",
     "output_type": "stream",
     "text": [
      "['durian', 'mangga', 'kiwi', 'apel', 'melon', 'anggur']\n"
     ]
    }
   ],
   "source": [
    "#insert\n",
    "buah = [\"durian\",\"mangga\",\"apel\",\"melon\",\"anggur\"]\n",
    "buah.insert(2,\"kiwi\")\n",
    "print(buah)"
   ]
  },
  {
   "cell_type": "code",
   "execution_count": 6,
   "metadata": {},
   "outputs": [
    {
     "name": "stdout",
     "output_type": "stream",
     "text": [
      "4\n",
      "[111, 7, 2, 1]\n",
      "5\n",
      "[111, 7, 2, 1, 4]\n",
      "6\n",
      "[222, 111, 7, 2, 1, 4]\n"
     ]
    }
   ],
   "source": [
    "#perbedaan append dan insert\n",
    "\n",
    "numbers = [111, 7, 2, 1]\n",
    "print(len(numbers))\n",
    "print(numbers)\n",
    "###\n",
    "numbers.append(4)\n",
    "print(len(numbers))\n",
    "print(numbers)\n",
    "###\n",
    "numbers.insert(0, 222)\n",
    "print(len(numbers))\n",
    "print(numbers)"
   ]
  },
  {
   "cell_type": "code",
   "execution_count": 7,
   "metadata": {},
   "outputs": [
    {
     "name": "stdout",
     "output_type": "stream",
     "text": [
      "['durian', 'mangga', 'apel', 'jeruk', 'melon']\n"
     ]
    }
   ],
   "source": [
    "buah = [\"durian\",\"mangga\",\"apel\"]\n",
    "b = [\"jeruk\",\"melon\"]\n",
    "buah.extend(b)\n",
    "print(buah)"
   ]
  },
  {
   "cell_type": "code",
   "execution_count": 8,
   "metadata": {},
   "outputs": [
    {
     "name": "stdout",
     "output_type": "stream",
     "text": [
      "Panjang angka :  4\n",
      "Isi :  [5, 3, 2, 1]\n"
     ]
    }
   ],
   "source": [
    "angka = [5,4,3,2,1]\n",
    "\n",
    "del angka[1]\n",
    "print(\"Panjang angka : \",len(angka))\n",
    "print(\"Isi : \",angka)"
   ]
  },
  {
   "cell_type": "markdown",
   "metadata": {},
   "source": [
    "4. List dan Variabel"
   ]
  },
  {
   "cell_type": "code",
   "execution_count": 9,
   "metadata": {},
   "outputs": [
    {
     "name": "stdout",
     "output_type": "stream",
     "text": [
      "[1]\n",
      "[1]\n"
     ]
    }
   ],
   "source": [
    "list_1 = [1]\n",
    "list_2 = list_1\n",
    "list_1[0] = 1\n",
    "print(list_2)\n",
    "print(list_1)"
   ]
  },
  {
   "cell_type": "markdown",
   "metadata": {},
   "source": [
    "a. Indexing"
   ]
  },
  {
   "cell_type": "code",
   "execution_count": 10,
   "metadata": {},
   "outputs": [
    {
     "name": "stdout",
     "output_type": "stream",
     "text": [
      "Phyton\n",
      "java\n",
      "['java', 'Phyton']\n"
     ]
    }
   ],
   "source": [
    "L = ['C++','java','Phyton']\n",
    "\n",
    "print(L[2])\n",
    "print(L[-2])\n",
    "print(L[1:])"
   ]
  },
  {
   "cell_type": "code",
   "execution_count": null,
   "metadata": {},
   "outputs": [],
   "source": [
    "b. Slicing"
   ]
  },
  {
   "cell_type": "code",
   "execution_count": 13,
   "metadata": {},
   "outputs": [
    {
     "name": "stdout",
     "output_type": "stream",
     "text": [
      "[8, 6]\n"
     ]
    }
   ],
   "source": [
    "myList = [10,8,6,4,2]\n",
    "newList = myList[1:3]\n",
    "print(newList)"
   ]
  },
  {
   "cell_type": "code",
   "execution_count": 18,
   "metadata": {},
   "outputs": [
    {
     "name": "stdout",
     "output_type": "stream",
     "text": [
      "[1]\n",
      "[1]\n",
      "[8, 6]\n"
     ]
    }
   ],
   "source": [
    "# Mengambil seluruh isi list\n",
    "\n",
    "list1 = [1]\n",
    "list2 = list1[:]\n",
    "list_1[0] = 2\n",
    "print(list2)\n",
    "print(list1)\n",
    "\n",
    "#Mengambil sebagian isi list\n",
    "myList = [10,8,6,4,2]\n",
    "newList = myList[1:3]\n",
    "print(newList)"
   ]
  },
  {
   "cell_type": "code",
   "execution_count": 19,
   "metadata": {},
   "outputs": [
    {
     "name": "stdout",
     "output_type": "stream",
     "text": [
      "[4, 2]\n"
     ]
    }
   ],
   "source": [
    "myList = [10,8,6,4,2]\n",
    "newList = myList[1:-1]\n",
    "print(newList)"
   ]
  },
  {
   "cell_type": "code",
   "execution_count": null,
   "metadata": {},
   "outputs": [],
   "source": [
    "myList = [10,8,6,4,2]\n",
    "newList = myList[-1:1]\n",
    "print(newList)"
   ]
  },
  {
   "cell_type": "code",
   "execution_count": null,
   "metadata": {},
   "outputs": [],
   "source": [
    "myList = [10,8,6,4,2]\n",
    "newList = myList[::-1]\n",
    "print(newList)"
   ]
  },
  {
   "cell_type": "code",
   "execution_count": 20,
   "metadata": {},
   "outputs": [
    {
     "name": "stdout",
     "output_type": "stream",
     "text": [
      "[10, 4, 2]\n"
     ]
    }
   ],
   "source": [
    "#Menghapus list pada range tertentu\n",
    "\n",
    "myList = [10,8,6,4,2]\n",
    "del myList[1:3]\n",
    "print(myList)"
   ]
  },
  {
   "cell_type": "code",
   "execution_count": 21,
   "metadata": {},
   "outputs": [
    {
     "name": "stdout",
     "output_type": "stream",
     "text": [
      "[]\n"
     ]
    }
   ],
   "source": [
    "#Menghapus list\n",
    "\n",
    "myList = [10,8,6,4,2]\n",
    "del myList[:]\n",
    "print(myList)"
   ]
  },
  {
   "cell_type": "markdown",
   "metadata": {},
   "source": [
    "c. In dan not in"
   ]
  },
  {
   "cell_type": "code",
   "execution_count": 6,
   "metadata": {},
   "outputs": [
    {
     "name": "stdout",
     "output_type": "stream",
     "text": [
      "False\n",
      "True\n",
      "True\n"
     ]
    }
   ],
   "source": [
    "myList = [0, 3, 12, 8, 2]\n",
    "print(5 in myList)\n",
    "print(5 not in myList)\n",
    "print(12 in myList)"
   ]
  },
  {
   "cell_type": "markdown",
   "metadata": {},
   "source": [
    "7. Aplikasi list"
   ]
  },
  {
   "cell_type": "code",
   "execution_count": 4,
   "metadata": {},
   "outputs": [
    {
     "name": "stdout",
     "output_type": "stream",
     "text": [
      "17\n"
     ]
    }
   ],
   "source": [
    "myList = [17, 3, 11, 5, 1, 9, 7, 15, 13]\n",
    "largest = myList[3]\n",
    "for i in range(0, len(myList)):\n",
    "    if myList[i] > largest:\n",
    "        largest = myList[i]\n",
    "print(largest)"
   ]
  },
  {
   "cell_type": "code",
   "execution_count": 7,
   "metadata": {},
   "outputs": [
    {
     "name": "stdout",
     "output_type": "stream",
     "text": [
      "Element found at index 4\n"
     ]
    }
   ],
   "source": [
    "myList = [1, 2, 3, 4, 5, 6, 7, 8, 9, 10]\n",
    "toFind = 5\n",
    "found = False\n",
    "for i in range(len(myList)):\n",
    "    found = myList[i] == toFind\n",
    "    if found:\n",
    "        break\n",
    "if found:\n",
    "    print(\"Element found at index\", i)\n",
    "else:\n",
    "    print(\"absent\")"
   ]
  }
 ],
 "metadata": {
  "interpreter": {
   "hash": "916dbcbb3f70747c44a77c7bcd40155683ae19c65e1c03b4aa3499c5328201f1"
  },
  "kernelspec": {
   "display_name": "Python 3.8.10 64-bit",
   "language": "python",
   "name": "python3"
  },
  "language_info": {
   "codemirror_mode": {
    "name": "ipython",
    "version": 3
   },
   "file_extension": ".py",
   "mimetype": "text/x-python",
   "name": "python",
   "nbconvert_exporter": "python",
   "pygments_lexer": "ipython3",
   "version": "3.8.10"
  },
  "orig_nbformat": 4
 },
 "nbformat": 4,
 "nbformat_minor": 2
}
