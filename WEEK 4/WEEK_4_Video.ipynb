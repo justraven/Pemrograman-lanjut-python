{
 "cells": [
  {
   "cell_type": "markdown",
   "metadata": {},
   "source": [
    "1. Cara menulis list"
   ]
  },
  {
   "cell_type": "code",
   "execution_count": 1,
   "metadata": {},
   "outputs": [
    {
     "name": "stdout",
     "output_type": "stream",
     "text": [
      "Ini adalah variable b : 2\n",
      "Ini adalah variable huruf index ke 1 : 2\n"
     ]
    }
   ],
   "source": [
    "a = 1\n",
    "b = 2\n",
    "c = 3\n",
    "\n",
    "huruf = [1,2,3]\n",
    "\n",
    "print(\"Ini adalah variable b :\",b)\n",
    "print(\"Ini adalah variable huruf index ke 1 :\", huruf[1])"
   ]
  },
  {
   "cell_type": "markdown",
   "metadata": {},
   "source": [
    "2. Isi dari list umumnya adalah data yang satu klasifikasi"
   ]
  },
  {
   "cell_type": "code",
   "execution_count": 2,
   "metadata": {},
   "outputs": [
    {
     "name": "stdout",
     "output_type": "stream",
     "text": [
      "Usia dalam bulan : 252\n"
     ]
    }
   ],
   "source": [
    "data_alim = [\"Alim\",21,\"yogya\",0,True]\n",
    "usia_bulan = 12*data_alim[1]\n",
    "\n",
    "print(\"Usia dalam bulan :\",usia_bulan)"
   ]
  },
  {
   "cell_type": "markdown",
   "metadata": {},
   "source": [
    "3. Data array"
   ]
  },
  {
   "cell_type": "code",
   "execution_count": 3,
   "metadata": {},
   "outputs": [
    {
     "name": "stdout",
     "output_type": "stream",
     "text": [
      "Nilai matek1 alim : [80, 90, 85]\n",
      "Nilai proglan alim : [100, 89, 95]\n",
      "Nilai bahasa inggris alim : [90, 98.97]\n",
      "Nilai UAS matek1 alim : 85\n"
     ]
    }
   ],
   "source": [
    "#data_array = nilai matek1, nilai proglan, nilai bhs.ing\n",
    "\n",
    "data_array = [[80,90,85],[100,89,95],[90,98.97]]\n",
    "print(\"Nilai matek1 alim :\",data_array[0])\n",
    "print(\"Nilai proglan alim :\",data_array[1])\n",
    "print(\"Nilai bahasa inggris alim :\",data_array[2])\n",
    "print(\"Nilai UAS matek1 alim :\", data_array[0][2])"
   ]
  },
  {
   "cell_type": "markdown",
   "metadata": {},
   "source": [
    "4. Indexing"
   ]
  },
  {
   "cell_type": "code",
   "execution_count": 5,
   "metadata": {},
   "outputs": [
    {
     "name": "stdout",
     "output_type": "stream",
     "text": [
      "5\n",
      "yogya\n",
      "True\n",
      "Alim\n"
     ]
    }
   ],
   "source": [
    "data_alim = [\"Alim\",21,\"yogya\",0,True]\n",
    "print(len(data_alim))\n",
    "print(data_alim[2])\n",
    "print(data_alim[-1])\n",
    "print(data_alim[-5])"
   ]
  },
  {
   "cell_type": "markdown",
   "metadata": {},
   "source": [
    "5. Slicing"
   ]
  },
  {
   "cell_type": "code",
   "execution_count": 14,
   "metadata": {},
   "outputs": [
    {
     "name": "stdout",
     "output_type": "stream",
     "text": [
      "[10, 5]\n",
      "[7, 2, 1]\n",
      "[8, 9, 3]\n",
      "[10, 5, 7, 2, 1, 6]\n",
      "[2, 1, 6, 8, 9, 3]\n",
      "[10, 7, 1, 8]\n",
      "[3, 9, 8, 6, 1, 2, 7, 5, 10]\n"
     ]
    }
   ],
   "source": [
    "list_alim = [10,5,7,2,1,6,8,9,3]\n",
    "print(list_alim[0:2])\n",
    "print(list_alim[2:5])\n",
    "print(list_alim[-3:])\n",
    "print(list_alim[:-3])\n",
    "print(list_alim[3:])\n",
    "print(list_alim[0:7:2])\n",
    "print(list_alim[::-1])\n"
   ]
  },
  {
   "cell_type": "code",
   "execution_count": 16,
   "metadata": {},
   "outputs": [
    {
     "name": "stdout",
     "output_type": "stream",
     "text": [
      "65.0\n"
     ]
    }
   ],
   "source": [
    "#menghitung rata-rata nilai\n",
    "\n",
    "nilai_alim = [100,80,50,30,120,10]\n",
    "\n",
    "total = 0\n",
    "\n",
    "for i in nilai_alim :\n",
    "\n",
    "    total += i\n",
    "\n",
    "mean = total/len(nilai_alim)\n",
    "\n",
    "print(mean)\n",
    "\n"
   ]
  },
  {
   "cell_type": "code",
   "execution_count": 24,
   "metadata": {},
   "outputs": [
    {
     "name": "stdout",
     "output_type": "stream",
     "text": [
      "[85.0, 94.66666666666667, 94.485]\n"
     ]
    }
   ],
   "source": [
    "data_array = [[80,90,85],[100,89,95],[90,98.97]]\n",
    "\n",
    "data_rata2 = []\n",
    "\n",
    "for i in range(len(data_array)) :\n",
    "    jumlah = 0\n",
    "    for j in range(len(data_array[i])) :\n",
    "        jumlah += data_array[i][j]\n",
    "    rata_rata = jumlah/len(data_array[i])\n",
    "    data_rata2.append(rata_rata);\n",
    "print(data_rata2)"
   ]
  },
  {
   "cell_type": "code",
   "execution_count": 25,
   "metadata": {},
   "outputs": [
    {
     "name": "stdout",
     "output_type": "stream",
     "text": [
      "[2, 1, 3]\n"
     ]
    }
   ],
   "source": [
    "numbers = [1,2,3]\n",
    "numbers[0],numbers[1] = numbers[1],numbers[0]\n",
    "print(numbers)"
   ]
  },
  {
   "cell_type": "markdown",
   "metadata": {},
   "source": [
    "Menambahkan Element di list\n",
    "-append\n",
    "-insert\n",
    "-extend"
   ]
  },
  {
   "cell_type": "code",
   "execution_count": 28,
   "metadata": {},
   "outputs": [
    {
     "name": "stdout",
     "output_type": "stream",
     "text": [
      "Sebelum append :  ['durian', 'Mangga', 'apel']\n",
      "Sesudah append :  ['durian', 'Mangga', 'apel', 'kiwi']\n"
     ]
    }
   ],
   "source": [
    "#append\n",
    "\n",
    "buah = [\"durian\",\"Mangga\",\"apel\"]\n",
    "print(\"Sebelum append : \",buah)\n",
    "buah.append(\"kiwi\")\n",
    "print(\"Sesudah append : \", buah)\n"
   ]
  },
  {
   "cell_type": "code",
   "execution_count": 29,
   "metadata": {},
   "outputs": [
    {
     "name": "stdout",
     "output_type": "stream",
     "text": [
      "[0, 8, 16, 24, 32]\n"
     ]
    }
   ],
   "source": [
    "list_random = []\n",
    "\n",
    "for i in range(5) :\n",
    "    list_random.append(i*8)\n",
    "print(list_random)"
   ]
  },
  {
   "cell_type": "code",
   "execution_count": 30,
   "metadata": {},
   "outputs": [
    {
     "name": "stdout",
     "output_type": "stream",
     "text": [
      "['durian', 'kiwi', 'Mangga', 'apel']\n"
     ]
    }
   ],
   "source": [
    "#Insert\n",
    "\n",
    "buah = [\"durian\",\"Mangga\",\"apel\"]\n",
    "buah.insert(1,\"kiwi\")\n",
    "print(buah)"
   ]
  },
  {
   "cell_type": "code",
   "execution_count": 31,
   "metadata": {},
   "outputs": [
    {
     "name": "stdout",
     "output_type": "stream",
     "text": [
      "['durian', 'Mangga', 'apel', 'jeruk', 'melon']\n"
     ]
    }
   ],
   "source": [
    "#Extend\n",
    "\n",
    "buah = [\"durian\",\"Mangga\",\"apel\"]\n",
    "buah.extend([\"jeruk\",\"melon\"])\n",
    "\n",
    "print(buah)"
   ]
  },
  {
   "cell_type": "code",
   "execution_count": 34,
   "metadata": {},
   "outputs": [
    {
     "name": "stdout",
     "output_type": "stream",
     "text": [
      "['durian', 'Mangga', 'apel', 'jeruk', 'melon']\n"
     ]
    }
   ],
   "source": [
    "buah = [\"durian\",\"Mangga\",\"apel\"]\n",
    "buah  = buah + [\"jeruk\",\"melon\"]\n",
    "\n",
    "print(buah)"
   ]
  },
  {
   "cell_type": "code",
   "execution_count": 36,
   "metadata": {},
   "outputs": [
    {
     "name": "stdout",
     "output_type": "stream",
     "text": [
      "['durian', 'Mangga', 'apel', ['jeruk', 'melon']]\n"
     ]
    }
   ],
   "source": [
    "buah = [\"durian\",\"Mangga\",\"apel\"]\n",
    "buah.append([\"jeruk\",\"melon\"])\n",
    "\n",
    "print(buah)"
   ]
  },
  {
   "cell_type": "markdown",
   "metadata": {},
   "source": [
    "MENAMBAHKAN ELEMEN DI LIST\n",
    "-remove\n",
    "-del"
   ]
  },
  {
   "cell_type": "code",
   "execution_count": 39,
   "metadata": {},
   "outputs": [
    {
     "name": "stdout",
     "output_type": "stream",
     "text": [
      "[10, 5, 2, 1, 7, 6, 8, 9, 3]\n"
     ]
    }
   ],
   "source": [
    "#remove\n",
    "list_alim = [10,5,7,2,1,7,6,8,9,3]\n",
    "list_alim.remove(7)\n",
    "\n",
    "print(list_alim)"
   ]
  },
  {
   "cell_type": "code",
   "execution_count": 40,
   "metadata": {},
   "outputs": [
    {
     "name": "stdout",
     "output_type": "stream",
     "text": [
      "[10, 5, 7, 1, 6, 8, 9, 3]\n"
     ]
    }
   ],
   "source": [
    "#del\n",
    "list_alim = [10,5,7,2,1,6,8,9,3]\n",
    "del list_alim[3]\n",
    "\n",
    "print(list_alim)"
   ]
  },
  {
   "cell_type": "code",
   "execution_count": 41,
   "metadata": {},
   "outputs": [
    {
     "name": "stdout",
     "output_type": "stream",
     "text": [
      "[0.0, 1.0, 2.0, 3.0, 4.0, 6.0, 6.0, 7.0, 8.0, 9.0]\n"
     ]
    }
   ],
   "source": [
    "list_saya = []\n",
    "swapped = True\n",
    "jumlah_bilangan = int(input(\"Jumlah bilangan : \"))\n",
    "\n",
    "for i in range(jumlah_bilangan) :\n",
    "    bilangan = float(input(\"Masukkan bilangan : \"))\n",
    "    list_saya.append(bilangan);\n",
    "while swapped :\n",
    "    swapped = False\n",
    "    for i in range(len(list_saya) - 1) :\n",
    "        if list_saya[i] > list_saya[i+1] :\n",
    "            swapped = True\n",
    "            list_saya[i],list_saya[i+1] = list_saya[i+1],list_saya[i]\n",
    "\n",
    "print(list_saya)"
   ]
  },
  {
   "cell_type": "code",
   "execution_count": 57,
   "metadata": {},
   "outputs": [
    {
     "ename": "TypeError",
     "evalue": "'bool' object is not callable",
     "output_type": "error",
     "traceback": [
      "\u001b[0;31m---------------------------------------------------------------------------\u001b[0m",
      "\u001b[0;31mTypeError\u001b[0m                                 Traceback (most recent call last)",
      "\u001b[1;32m/home/alimsatria/Documents/MATERI KULIAH/PEMROGRAMAN LANJUT/WEEK 4/WEEK_4_Video.ipynb Cell 25'\u001b[0m in \u001b[0;36m<module>\u001b[0;34m\u001b[0m\n\u001b[1;32m      <a href='vscode-notebook-cell:/home/alimsatria/Documents/MATERI%20KULIAH/PEMROGRAMAN%20LANJUT/WEEK%204/WEEK_4_Video.ipynb#ch0000028?line=0'>1</a>\u001b[0m buah \u001b[39m=\u001b[39m [\u001b[39m\"\u001b[39m\u001b[39mdurian\u001b[39m\u001b[39m\"\u001b[39m,\u001b[39m\"\u001b[39m\u001b[39mMangga\u001b[39m\u001b[39m\"\u001b[39m,\u001b[39m\"\u001b[39m\u001b[39mapel\u001b[39m\u001b[39m\"\u001b[39m]\n\u001b[0;32m----> <a href='vscode-notebook-cell:/home/alimsatria/Documents/MATERI%20KULIAH/PEMROGRAMAN%20LANJUT/WEEK%204/WEEK_4_Video.ipynb#ch0000028?line=1'>2</a>\u001b[0m \u001b[39mprint\u001b[39;49m(\u001b[39m\"\u001b[39;49m\u001b[39mdurian\u001b[39;49m\u001b[39m\"\u001b[39;49m \u001b[39mnot\u001b[39;49;00m \u001b[39min\u001b[39;49;00m buah)\n",
      "\u001b[0;31mTypeError\u001b[0m: 'bool' object is not callable"
     ]
    }
   ],
   "source": [
    "buah = [\"durian\",\"Mangga\",\"apel\"]\n",
    "print(\"durian\" not in buah)"
   ]
  }
 ],
 "metadata": {
  "interpreter": {
   "hash": "916dbcbb3f70747c44a77c7bcd40155683ae19c65e1c03b4aa3499c5328201f1"
  },
  "kernelspec": {
   "display_name": "Python 3.8.10 64-bit",
   "language": "python",
   "name": "python3"
  },
  "language_info": {
   "codemirror_mode": {
    "name": "ipython",
    "version": 3
   },
   "file_extension": ".py",
   "mimetype": "text/x-python",
   "name": "python",
   "nbconvert_exporter": "python",
   "pygments_lexer": "ipython3",
   "version": "3.8.10"
  },
  "orig_nbformat": 4
 },
 "nbformat": 4,
 "nbformat_minor": 2
}
