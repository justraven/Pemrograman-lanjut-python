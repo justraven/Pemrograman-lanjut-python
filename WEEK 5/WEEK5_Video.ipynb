{
 "cells": [
  {
   "cell_type": "markdown",
   "metadata": {},
   "source": [
    "1. Append"
   ]
  },
  {
   "cell_type": "code",
   "execution_count": 7,
   "metadata": {},
   "outputs": [
    {
     "name": "stdout",
     "output_type": "stream",
     "text": [
      "A[ 0 ],[ 0 ]=\n",
      "A[ 0 ],[ 1 ]=\n",
      "A[ 1 ],[ 0 ]=\n",
      "A[ 1 ],[ 1 ]=\n",
      "[[1, 2], [3, 4]]\n"
     ]
    }
   ],
   "source": [
    "M = 2\n",
    "N = 2\n",
    "\n",
    "A = []\n",
    "\n",
    "for i in range(N) :\n",
    "    d = []\n",
    "    for j in range (M) :\n",
    "        print('A[',i,'],[',j,']=',end=\"\\n\")\n",
    "        d.append(int(input()))\n",
    "    A.append(d)\n",
    "print(A)\n"
   ]
  },
  {
   "cell_type": "code",
   "execution_count": 9,
   "metadata": {},
   "outputs": [
    {
     "name": "stdout",
     "output_type": "stream",
     "text": [
      "1 2 \n",
      "3 4 \n"
     ]
    }
   ],
   "source": [
    "for i in range (N) :\n",
    "    for j in range (M) :\n",
    "        print(A[i][j],end=\" \")\n",
    "    print()"
   ]
  },
  {
   "cell_type": "code",
   "execution_count": 10,
   "metadata": {},
   "outputs": [
    {
     "name": "stdout",
     "output_type": "stream",
     "text": [
      "27\n"
     ]
    }
   ],
   "source": [
    "mylist = [10,1,8,3,5]\n",
    "\n",
    "total = 0\n",
    "\n",
    "for i in mylist :\n",
    "    total += i\n",
    "print(total)"
   ]
  },
  {
   "cell_type": "code",
   "execution_count": 11,
   "metadata": {},
   "outputs": [
    {
     "name": "stdout",
     "output_type": "stream",
     "text": [
      "[0, 1, 4, 9, 16]\n"
     ]
    }
   ],
   "source": [
    "squares = []\n",
    "for i in range(5) :\n",
    "    squares.append(i**2)\n",
    "print(squares)"
   ]
  },
  {
   "cell_type": "code",
   "execution_count": 12,
   "metadata": {},
   "outputs": [
    {
     "name": "stdout",
     "output_type": "stream",
     "text": [
      "[0, 1, 4, 9, 16]\n"
     ]
    }
   ],
   "source": [
    "squares_2 = [i**2 for i in range(5)]\n",
    "print(squares_2)"
   ]
  },
  {
   "cell_type": "code",
   "execution_count": 13,
   "metadata": {},
   "outputs": [
    {
     "name": "stdout",
     "output_type": "stream",
     "text": [
      "[1, 9]\n"
     ]
    }
   ],
   "source": [
    "odd_squares = []\n",
    "for i in squares :\n",
    "    if i%2 !=0 :\n",
    "        odd_squares.append(i)\n",
    "print(odd_squares)"
   ]
  },
  {
   "cell_type": "code",
   "execution_count": 14,
   "metadata": {},
   "outputs": [
    {
     "name": "stdout",
     "output_type": "stream",
     "text": [
      "[1, 9]\n"
     ]
    }
   ],
   "source": [
    "odd_squares_2 = [i for i in squares if i%2 !=0]\n",
    "print(odd_squares_2)"
   ]
  },
  {
   "cell_type": "code",
   "execution_count": 30,
   "metadata": {},
   "outputs": [
    {
     "name": "stdout",
     "output_type": "stream",
     "text": [
      "[['-', '-', '-', '-', '-', '-', '-', '-'], ['-', '-', '-', '-', '-', '-', '-', '-'], ['-', '-', '-', '-', '-', '-', '-', '-'], ['-', '-', '-', '-', '-', '-', '-', '-'], ['-', '-', '-', '-', '-', '-', '-', '-'], ['-', '-', '-', '-', '-', '-', '-', '-'], ['-', '-', '-', '-', '-', '-', '-', '-'], ['-', '-', '-', '-', '-', '-', '-', '-']]\n",
      "[['ROOK', '-', '-', '-', '-', 'HORSE', 'KNIGHT', 'ROOK'], ['-', '-', '-', '-', '-', '-', '-', '-'], ['-', '-', '-', '-', '-', '-', '-', '-'], ['-', '-', '-', '-', '-', '-', '-', '-'], ['-', '-', '-', '-', '-', '-', '-', '-'], ['-', '-', '-', '-', '-', '-', '-', '-'], ['-', '-', '-', '-', '-', '-', '-', '-'], ['ROOK', '-', '-', '-', '-', '-', '-', 'ROOK']]\n"
     ]
    }
   ],
   "source": [
    "EMPTY = '-'\n",
    "KNIGHT = 'KNIGHT'\n",
    "HORSE = 'HORSE'\n",
    "ROOK = 'ROOK'\n",
    "\n",
    "papan_catur = [[EMPTY for i in range(8)] for j in range(8)]\n",
    "print(papan_catur)\n",
    "\n",
    "papan_catur[0][0] = ROOK\n",
    "papan_catur[0][7] = ROOK\n",
    "papan_catur[7][0] = ROOK\n",
    "papan_catur[7][7] = ROOK\n",
    "\n",
    "########tugas##########\n",
    "\n",
    "papan_catur[0][6] = KNIGHT\n",
    "papan_catur[0][5] = HORSE\n",
    "\n",
    "#######################\n",
    "\n",
    "print(papan_catur)"
   ]
  }
 ],
 "metadata": {
  "interpreter": {
   "hash": "916dbcbb3f70747c44a77c7bcd40155683ae19c65e1c03b4aa3499c5328201f1"
  },
  "kernelspec": {
   "display_name": "Python 3.8.10 64-bit",
   "language": "python",
   "name": "python3"
  },
  "language_info": {
   "codemirror_mode": {
    "name": "ipython",
    "version": 3
   },
   "file_extension": ".py",
   "mimetype": "text/x-python",
   "name": "python",
   "nbconvert_exporter": "python",
   "pygments_lexer": "ipython3",
   "version": "3.8.10"
  },
  "orig_nbformat": 4
 },
 "nbformat": 4,
 "nbformat_minor": 2
}
