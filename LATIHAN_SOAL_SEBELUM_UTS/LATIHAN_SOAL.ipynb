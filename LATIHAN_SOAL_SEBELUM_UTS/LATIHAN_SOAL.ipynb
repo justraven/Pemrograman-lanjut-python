{
 "cells": [
  {
   "cell_type": "markdown",
   "metadata": {},
   "source": [
    "Soal.1"
   ]
  },
  {
   "cell_type": "code",
   "execution_count": 3,
   "metadata": {},
   "outputs": [
    {
     "name": "stdout",
     "output_type": "stream",
     "text": [
      "uang : Rp. 20000  bernilai sama dengan  1.37  dollar\n"
     ]
    }
   ],
   "source": [
    "def konversi(x,y) :\n",
    "    \n",
    "    z = (1/y)*x\n",
    "    z = \"{:.2f}\".format(z)\n",
    "\n",
    "    print('uang : Rp.',x, ' bernilai sama dengan ',z, ' dollar')\n",
    "\n",
    "nilai_tukar = 14591\n",
    "uang = int(input(\"Masukkan jumlah dalam satuan Rupiah\"))\n",
    "\n",
    "konversi(uang,nilai_tukar)\n"
   ]
  },
  {
   "cell_type": "markdown",
   "metadata": {},
   "source": [
    "Soal.2"
   ]
  },
  {
   "cell_type": "code",
   "execution_count": 22,
   "metadata": {},
   "outputs": [
    {
     "name": "stdout",
     "output_type": "stream",
     "text": [
      "Berat badan :  60.0  Kg\n",
      "Tinggi badan :  1.730  m\n",
      "BMI :  ideal\n"
     ]
    }
   ],
   "source": [
    "def BMI(berat_badan,tinggi_badan) :\n",
    "\n",
    "    badan = 'underweight','ideal','overweight'\n",
    "\n",
    "    tinggi_badan = tinggi_badan*0.01\n",
    "\n",
    "    b_m_i = berat_badan/(tinggi_badan*tinggi_badan)\n",
    "\n",
    "    x = 0\n",
    "\n",
    "    if b_m_i < 18.5 :\n",
    "        x = 0\n",
    "    elif b_m_i > 22.9 :\n",
    "        x = 2\n",
    "    else :\n",
    "        x = 1\n",
    "    \n",
    "    b_m_i = \"{:.1f}\".format(b_m_i)\n",
    "    berat_badan = \"{:.1f}\".format(berat_badan)\n",
    "    tinggi_badan = \"{:.3f}\".format(tinggi_badan)\n",
    "    \n",
    "    print('Berat badan : ',berat_badan,' Kg\\nTinggi badan : ',tinggi_badan,' m\\nBMI : ',badan[x])\n",
    "\n",
    "bb = float(input(\"Masukkan berat badan (kg)\"))\n",
    "tb = float(input(\"Masukkan tinggi badan (cm)\"))\n",
    "\n",
    "BMI(bb,tb)"
   ]
  },
  {
   "cell_type": "markdown",
   "metadata": {},
   "source": [
    "Soal.3"
   ]
  },
  {
   "cell_type": "code",
   "execution_count": 28,
   "metadata": {},
   "outputs": [
    {
     "name": "stdout",
     "output_type": "stream",
     "text": [
      "['eros', 'duta']\n",
      "['eros', 'duta', 'anton', 'sakti']\n",
      "['eros', 'duta']\n",
      "['eros', 'duta', 'brian']\n"
     ]
    }
   ],
   "source": [
    "sheila = []\n",
    "\n",
    "sheila.append('eros')\n",
    "sheila.append('duta')\n",
    "\n",
    "print(sheila)\n",
    "\n",
    "for i in range(2) :\n",
    "    x = input('Masukkan nama')\n",
    "    sheila.insert(i+2,x)\n",
    "\n",
    "print(sheila)\n",
    "\n",
    "del sheila[2:4]\n",
    "\n",
    "print(sheila)\n",
    "\n",
    "sheila.insert(2,'brian')\n",
    "\n",
    "print(sheila)\n",
    "\n",
    "del sheila[:]\n",
    "\n"
   ]
  },
  {
   "cell_type": "markdown",
   "metadata": {},
   "source": [
    "Soal.4"
   ]
  },
  {
   "cell_type": "code",
   "execution_count": 18,
   "metadata": {},
   "outputs": [
    {
     "name": "stdout",
     "output_type": "stream",
     "text": [
      "Masukan :  Digital Talent \n",
      "Hasil :  DGTL TLNT\n"
     ]
    }
   ],
   "source": [
    "def buang_vokal(x) :\n",
    "\n",
    "    vokal = 'a','i','u','e','o'\n",
    "    hasil = [kalimat for kalimat in x if kalimat.lower() not in vokal]\n",
    "    hasil = ''.join(hasil)\n",
    "    hasil = hasil.upper()\n",
    "    \n",
    "    print('Masukan : ',x,'\\nHasil : ',hasil)\n",
    "\n",
    "buang_vokal('Digital Talent')"
   ]
  },
  {
   "cell_type": "markdown",
   "metadata": {},
   "source": [
    "Soal.5"
   ]
  },
  {
   "cell_type": "code",
   "execution_count": 21,
   "metadata": {},
   "outputs": [
    {
     "name": "stdout",
     "output_type": "stream",
     "text": [
      "001 --> Bahasa Indonesia\n",
      "002 --> Bahasa Inggris\n",
      "003 --> Kimia\n",
      "004 --> Biologi\n",
      "005 --> Olahraga\n",
      "007 --> Geografi\n",
      "008 --> Ekonomi\n",
      "009 --> Akuntansi\n",
      "010 --> Sosiologi\n"
     ]
    }
   ],
   "source": [
    "kode_mapel = '001','002','003','004','005','005','007','008','009','010'\n",
    "\n",
    "mata_pelajaran = {'001':'Bahasa Indonesia',\n",
    "                  '002':'Bahasa Inggris',\n",
    "                  '003':'Matematika',\n",
    "                  '004':'Biologi',\n",
    "                  '005':'Fisika'\n",
    "                  }\n",
    "\n",
    "for i in range(0,5) :\n",
    "    kode = int(input(\"Masukkan kode mata pelajaran\"))\n",
    "    mapel = str(input(\"Masukkan nama mata pelajaran\"))\n",
    "\n",
    "    mata_pelajaran[kode_mapel[kode-1]] = mapel\n",
    "\n",
    "mata_pelajaran['003'] = 'Kimia'\n",
    "mata_pelajaran['005'] = 'Olahraga'\n",
    "\n",
    "for x,y in mata_pelajaran.items() :\n",
    "    print(x,'-->',y)\n"
   ]
  }
 ],
 "metadata": {
  "interpreter": {
   "hash": "31f2aee4e71d21fbe5cf8b01ff0e069b9275f58929596ceb00d14d90e3e16cd6"
  },
  "kernelspec": {
   "display_name": "Python 3.8.10 64-bit",
   "language": "python",
   "name": "python3"
  },
  "language_info": {
   "codemirror_mode": {
    "name": "ipython",
    "version": 3
   },
   "file_extension": ".py",
   "mimetype": "text/x-python",
   "name": "python",
   "nbconvert_exporter": "python",
   "pygments_lexer": "ipython3",
   "version": "3.8.10"
  },
  "orig_nbformat": 4
 },
 "nbformat": 4,
 "nbformat_minor": 2
}
