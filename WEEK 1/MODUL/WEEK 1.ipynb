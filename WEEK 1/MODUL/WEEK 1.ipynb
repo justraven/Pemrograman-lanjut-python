{
 "cells": [
  {
   "cell_type": "markdown",
   "metadata": {},
   "source": [
    "1. Program \"Hello World\""
   ]
  },
  {
   "cell_type": "code",
   "execution_count": 1,
   "metadata": {},
   "outputs": [
    {
     "name": "stdout",
     "output_type": "stream",
     "text": [
      "Hello World\n"
     ]
    }
   ],
   "source": [
    "print(\"Hello World\")"
   ]
  },
  {
   "cell_type": "markdown",
   "metadata": {},
   "source": [
    "2. Spesial Character    "
   ]
  },
  {
   "cell_type": "code",
   "execution_count": 5,
   "metadata": {},
   "outputs": [
    {
     "name": "stdout",
     "output_type": "stream",
     "text": [
      "Alim\n",
      "\n",
      "python\n"
     ]
    }
   ],
   "source": [
    "print(\"Alim\")\n",
    "print()\n",
    "print(\"python\")"
   ]
  },
  {
   "cell_type": "code",
   "execution_count": 1,
   "metadata": {},
   "outputs": [
    {
     "ename": "SyntaxError",
     "evalue": "invalid syntax (599248589.py, line 1)",
     "output_type": "error",
     "traceback": [
      "\u001b[0;36m  Input \u001b[0;32mIn [1]\u001b[0;36m\u001b[0m\n\u001b[0;31m    print(\"alim\")print(\"python\")\u001b[0m\n\u001b[0m                 ^\u001b[0m\n\u001b[0;31mSyntaxError\u001b[0m\u001b[0;31m:\u001b[0m invalid syntax\n"
     ]
    }
   ],
   "source": [
    "print(\"alim\")print(\"python\")"
   ]
  },
  {
   "cell_type": "code",
   "execution_count": 2,
   "metadata": {},
   "outputs": [
    {
     "name": "stdout",
     "output_type": "stream",
     "text": [
      "Seketika langit menjadi gelap\n",
      "Kemudian hujan turun dengan deras\n",
      "\n",
      "Seketika langit menjadi gelap \n",
      "Kemudian hujan turun dengan deras\n"
     ]
    }
   ],
   "source": [
    "print(\"Seketika langit menjadi gelap\")\n",
    "print(\"Kemudian hujan turun dengan deras\")\n",
    "print()\n",
    "print(\"Seketika langit menjadi gelap \\nKemudian hujan turun dengan deras\")"
   ]
  },
  {
   "cell_type": "code",
   "execution_count": 3,
   "metadata": {},
   "outputs": [
    {
     "name": "stdout",
     "output_type": "stream",
     "text": [
      "\\\n",
      "\"\n",
      "Jum'at\n",
      "Jum'at\n"
     ]
    }
   ],
   "source": [
    "print(\"\\\\\")\n",
    "print(\"\\\"\")\n",
    "print(\"Jum'at\")\n",
    "print('Jum\\'at')"
   ]
  },
  {
   "cell_type": "code",
   "execution_count": 4,
   "metadata": {},
   "outputs": [
    {
     "name": "stdout",
     "output_type": "stream",
     "text": [
      "Dia mengatakan \"Halo\"\n",
      "Dia mengatakan \"Halo\"\n",
      "katanya \"Apa kabar\", begitu\n",
      "katanya \"Apa kabar\", begitu \n"
     ]
    }
   ],
   "source": [
    "#Dia mengatakan \"Halo\"\n",
    "print(\"Dia mengatakan \\\"Halo\\\"\")\n",
    "print('Dia mengatakan \"Halo\"')\n",
    "#Katanya \"Apa kabar\", begitu\n",
    "print('katanya \"Apa kabar\", begitu')\n",
    "print(\"katanya \\\"Apa kabar\\\", begitu \")"
   ]
  }
 ],
 "metadata": {
  "interpreter": {
   "hash": "916dbcbb3f70747c44a77c7bcd40155683ae19c65e1c03b4aa3499c5328201f1"
  },
  "kernelspec": {
   "display_name": "Python 3.8.10 64-bit",
   "language": "python",
   "name": "python3"
  },
  "language_info": {
   "codemirror_mode": {
    "name": "ipython",
    "version": 3
   },
   "file_extension": ".py",
   "mimetype": "text/x-python",
   "name": "python",
   "nbconvert_exporter": "python",
   "pygments_lexer": "ipython3",
   "version": "3.8.10"
  },
  "orig_nbformat": 4
 },
 "nbformat": 4,
 "nbformat_minor": 2
}
