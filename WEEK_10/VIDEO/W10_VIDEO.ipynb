{
 "cells": [
  {
   "cell_type": "markdown",
   "metadata": {},
   "source": [
    "- String (built in function). Tugas 1 mencoba built in function yang ada didalam modul"
   ]
  },
  {
   "cell_type": "markdown",
   "metadata": {},
   "source": [
    "- Try except. Tugas 2, mencoba yang ada didalam video, coba beberapa tipe error"
   ]
  },
  {
   "cell_type": "markdown",
   "metadata": {},
   "source": [
    "- manage with file. Tugas 3, Mencoba yang ada di video dan di modul."
   ]
  },
  {
   "cell_type": "markdown",
   "metadata": {},
   "source": [
    "- Tugas 4 yang ada di modul (aplikasi restoran)"
   ]
  },
  {
   "cell_type": "code",
   "execution_count": 1,
   "metadata": {},
   "outputs": [
    {
     "name": "stdout",
     "output_type": "stream",
     "text": [
      "65\n",
      "97\n",
      "A\n"
     ]
    }
   ],
   "source": [
    "#### STRING ####\n",
    "\n",
    "ch_1 = 'A'\n",
    "ch_2 = 'a'\n",
    "\n",
    "ord_1 = 65\n",
    "\n",
    "print(ord(ch_1))\n",
    "print(ord(ch_2))\n",
    "\n",
    "print(chr(ord_1))"
   ]
  },
  {
   "cell_type": "code",
   "execution_count": 2,
   "metadata": {},
   "outputs": [
    {
     "name": "stdout",
     "output_type": "stream",
     "text": [
      "True\n"
     ]
    }
   ],
   "source": [
    "sentence = \"alimsatria\"\n",
    "\n",
    "print(\"alim\" in sentence)"
   ]
  },
  {
   "cell_type": "code",
   "execution_count": 4,
   "metadata": {},
   "outputs": [
    {
     "name": "stdout",
     "output_type": "stream",
     "text": [
      "Terima kasih selamat malam\n",
      " terima kasih selamat malam\n",
      "Terima kasih. selamat malam\n"
     ]
    }
   ],
   "source": [
    "print(\"terima kasih selamat malam\".capitalize())\n",
    "print(\" terima kasih selamat malam\".capitalize())\n",
    "print(\"terima kasih. selamat malam\".capitalize())"
   ]
  },
  {
   "cell_type": "code",
   "execution_count": 8,
   "metadata": {},
   "outputs": [
    {
     "name": "stdout",
     "output_type": "stream",
     "text": [
      "True\n",
      "False\n"
     ]
    }
   ],
   "source": [
    "print('lambda30'.isalnum())\n",
    "print('@'.isalnum())"
   ]
  },
  {
   "cell_type": "code",
   "execution_count": 17,
   "metadata": {},
   "outputs": [
    {
     "ename": "ZeroDivisionError",
     "evalue": "division by zero",
     "output_type": "error",
     "traceback": [
      "\u001b[0;31m---------------------------------------------------------------------------\u001b[0m",
      "\u001b[0;31mZeroDivisionError\u001b[0m                         Traceback (most recent call last)",
      "\u001b[1;32m/home/alimsatria/Documents/MATERI KULIAH/PEMROGRAMAN LANJUT/WEEK_10/VIDEO/W10_VIDEO.ipynb Cell 9'\u001b[0m in \u001b[0;36m<module>\u001b[0;34m\u001b[0m\n\u001b[1;32m      <a href='vscode-notebook-cell:/home/alimsatria/Documents/MATERI%20KULIAH/PEMROGRAMAN%20LANJUT/WEEK_10/VIDEO/W10_VIDEO.ipynb#ch0000011?line=0'>1</a>\u001b[0m \u001b[39m#### TRY EXCEPT ####\u001b[39;00m\n\u001b[1;32m      <a href='vscode-notebook-cell:/home/alimsatria/Documents/MATERI%20KULIAH/PEMROGRAMAN%20LANJUT/WEEK_10/VIDEO/W10_VIDEO.ipynb#ch0000011?line=2'>3</a>\u001b[0m value \u001b[39m=\u001b[39m \u001b[39m1\u001b[39m\n\u001b[0;32m----> <a href='vscode-notebook-cell:/home/alimsatria/Documents/MATERI%20KULIAH/PEMROGRAMAN%20LANJUT/WEEK_10/VIDEO/W10_VIDEO.ipynb#ch0000011?line=3'>4</a>\u001b[0m value \u001b[39m/\u001b[39m\u001b[39m=\u001b[39m \u001b[39m0\u001b[39m\n",
      "\u001b[0;31mZeroDivisionError\u001b[0m: division by zero"
     ]
    }
   ],
   "source": [
    "#### TRY EXCEPT ####\n",
    "\n",
    "value = 1\n",
    "value /= 0"
   ]
  },
  {
   "cell_type": "code",
   "execution_count": 12,
   "metadata": {},
   "outputs": [
    {
     "name": "stdout",
     "output_type": "stream",
     "text": [
      "Tidak dapat diproses\n"
     ]
    }
   ],
   "source": [
    "num_1 = int(input(\"Masukkan angka 1 : \"))\n",
    "num_2 = int(input(\"Masukkan angka 2 : \"))\n",
    "\n",
    "if num_2 != 0 :\n",
    "    print(num_1/num_2)\n",
    "else :\n",
    "    print(\"Tidak dapat diproses\")\n"
   ]
  },
  {
   "cell_type": "code",
   "execution_count": 14,
   "metadata": {},
   "outputs": [
    {
     "name": "stdout",
     "output_type": "stream",
     "text": [
      "tidak dapat diproses\n"
     ]
    }
   ],
   "source": [
    "try : \n",
    "    num_1 = int(input(\"Masukkan angka 1 : \"))\n",
    "    num_2 = int(input(\"Masukkan angka 2 : \"))\n",
    "    print(num_1/num_2)\n",
    "except :\n",
    "    print(\"tidak dapat diproses\")"
   ]
  },
  {
   "cell_type": "code",
   "execution_count": 16,
   "metadata": {},
   "outputs": [
    {
     "name": "stdout",
     "output_type": "stream",
     "text": [
      "Silahkan masukkan data dengan format integer\n"
     ]
    }
   ],
   "source": [
    "try : \n",
    "    num_1 = int(input(\"Masukkan angka 1 : \"))\n",
    "    num_2 = 1 /num_1\n",
    "    print(num_2)\n",
    "except ZeroDivisionError :\n",
    "    print(\"tidak dapat dibagi nol\")\n",
    "except ValueError :\n",
    "    print(\"Silahkan masukkan data dengan format integer\")"
   ]
  }
 ],
 "metadata": {
  "interpreter": {
   "hash": "916dbcbb3f70747c44a77c7bcd40155683ae19c65e1c03b4aa3499c5328201f1"
  },
  "kernelspec": {
   "display_name": "Python 3.8.10 64-bit",
   "language": "python",
   "name": "python3"
  },
  "language_info": {
   "codemirror_mode": {
    "name": "ipython",
    "version": 3
   },
   "file_extension": ".py",
   "mimetype": "text/x-python",
   "name": "python",
   "nbconvert_exporter": "python",
   "pygments_lexer": "ipython3",
   "version": "3.8.10"
  },
  "orig_nbformat": 4
 },
 "nbformat": 4,
 "nbformat_minor": 2
}
