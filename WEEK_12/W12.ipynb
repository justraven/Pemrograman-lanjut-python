{
 "cells": [
  {
   "cell_type": "markdown",
   "metadata": {},
   "source": [
    "- Superclass and subclass"
   ]
  },
  {
   "cell_type": "code",
   "execution_count": 1,
   "metadata": {},
   "outputs": [
    {
     "name": "stdout",
     "output_type": "stream",
     "text": [
      "gerak-gerak!!\n",
      "kambing  gerak didarat dengan kaki  4\n",
      "Hiu gerak di air dengan sirip  lebar\n"
     ]
    }
   ],
   "source": [
    "class Hewan :\n",
    "    def __init__(self,nama) :\n",
    "        self.nama = nama;\n",
    "    def gerak(self) :\n",
    "        print(\"gerak-gerak!!\")\n",
    "\n",
    "class HewanDarat(Hewan) :\n",
    "    def __init__(self,nama,kaki=0) :\n",
    "        super().__init__(nama)\n",
    "        self.kaki = kaki\n",
    "    def gerak(self) :\n",
    "        print(self.nama,\" gerak didarat dengan kaki \",self.kaki)\n",
    "\n",
    "class HewanAir(Hewan) :\n",
    "    def __init__(self,nama,sirip = \"kecil\"):\n",
    "        super().__init__(nama)\n",
    "        self.sirip = sirip\n",
    "    def gerak(self) :\n",
    "        print(self.nama, \"gerak di air dengan sirip \",self.sirip)\n",
    "\n",
    "hewan   = Hewan(\"Cacing\")\n",
    "kambing = HewanDarat(\"kambing\",kaki=4)\n",
    "hiu     = HewanAir('Hiu',sirip='lebar')\n",
    "\n",
    "hewan.gerak()\n",
    "kambing.gerak()\n",
    "hiu.gerak()"
   ]
  },
  {
   "cell_type": "markdown",
   "metadata": {},
   "source": [
    " - Multiple inheritance [ modul ]"
   ]
  },
  {
   "cell_type": "code",
   "execution_count": 1,
   "metadata": {},
   "outputs": [
    {
     "name": "stdout",
     "output_type": "stream",
     "text": [
      "satu satusatu duadua SATU\n"
     ]
    }
   ],
   "source": [
    "class satu :\n",
    "    var     = \"satu\"\n",
    "    varSatu = \"satusatu\"\n",
    "    def coba(self) :\n",
    "        return \"SATU\"\n",
    "\n",
    "class dua :\n",
    "    var     = \"dua\"\n",
    "    varDua  = \"duadua\"\n",
    "    def coba(self) :\n",
    "        return \"DUA\"\n",
    "\n",
    "class sub(satu,dua) :\n",
    "    pass\n",
    "\n",
    "obj = sub()\n",
    "print(obj.var,obj.varSatu,obj.varDua,obj.coba())"
   ]
  },
  {
   "cell_type": "markdown",
   "metadata": {},
   "source": [
    "- Mencari properties dan method"
   ]
  },
  {
   "cell_type": "markdown",
   "metadata": {},
   "source": [
    "- bawah ke atas"
   ]
  },
  {
   "cell_type": "code",
   "execution_count": 4,
   "metadata": {},
   "outputs": [
    {
     "name": "stdout",
     "output_type": "stream",
     "text": [
      "100 201\n"
     ]
    }
   ],
   "source": [
    "class level_1 :\n",
    "    var = 100\n",
    "    def fun(self) :\n",
    "        return 101\n",
    "class level_2(level_1) :\n",
    "    def fun(self) :\n",
    "        return 201\n",
    "class level_3(level_2) :\n",
    "    pass\n",
    "\n",
    "obj = level_3()\n",
    "\n",
    "print(obj.var,obj.fun())"
   ]
  },
  {
   "cell_type": "markdown",
   "metadata": {},
   "source": [
    "- kiri ke kanan"
   ]
  },
  {
   "cell_type": "code",
   "execution_count": 6,
   "metadata": {},
   "outputs": [
    {
     "name": "stdout",
     "output_type": "stream",
     "text": [
      "100 101\n"
     ]
    }
   ],
   "source": [
    "class level_1 :\n",
    "    var = 100\n",
    "    def fun(self) :\n",
    "        return 101\n",
    "class level_2 :\n",
    "    var = 200\n",
    "    def fun(self) :\n",
    "        return 201\n",
    "class level_3(level_1,level_2) :\n",
    "    pass\n",
    "\n",
    "obj = level_3()\n",
    "\n",
    "print(obj.var,obj.fun())\n"
   ]
  },
  {
   "cell_type": "markdown",
   "metadata": {},
   "source": [
    "- isubclass dan isinstance [modul]"
   ]
  },
  {
   "cell_type": "code",
   "execution_count": 4,
   "metadata": {},
   "outputs": [
    {
     "name": "stdout",
     "output_type": "stream",
     "text": [
      "True\n",
      "True\n",
      "True\n",
      "True\n"
     ]
    }
   ],
   "source": [
    "print(issubclass(sub,satu))\n",
    "print(issubclass(sub,dua))\n",
    "print(isinstance(obj,satu))\n",
    "print(isinstance(obj,dua))"
   ]
  },
  {
   "cell_type": "markdown",
   "metadata": {},
   "source": [
    "- isoperator [modul]"
   ]
  },
  {
   "cell_type": "code",
   "execution_count": 6,
   "metadata": {},
   "outputs": [
    {
     "name": "stdout",
     "output_type": "stream",
     "text": [
      "True False\n"
     ]
    }
   ],
   "source": [
    "String_1 = \"Mary had a little \"\n",
    "String_2 = \"Mary had a little lamb\"\n",
    "String_1 += \"lamb\"\n",
    "\n",
    "print(String_1 == String_2,String_1 is String_2)"
   ]
  },
  {
   "cell_type": "code",
   "execution_count": 10,
   "metadata": {},
   "outputs": [
    {
     "name": "stdout",
     "output_type": "stream",
     "text": [
      "False\n",
      "False\n",
      "True\n",
      "1 2 1\n"
     ]
    }
   ],
   "source": [
    "class sampleclass :\n",
    "    def __init__(self,val) :\n",
    "        self.val = val\n",
    "\n",
    "object_1 = sampleclass(0)\n",
    "object_2 = sampleclass(2)\n",
    "object_3 = object_1\n",
    "\n",
    "object_3.val += 1\n",
    "\n",
    "print(object_1 is object_2)\n",
    "print(object_2 is object_3)\n",
    "print(object_3 is object_1)\n",
    "\n",
    "print(object_1.val, object_2.val, object_3.val)"
   ]
  },
  {
   "cell_type": "markdown",
   "metadata": {},
   "source": [
    "- MRO"
   ]
  },
  {
   "cell_type": "code",
   "execution_count": 9,
   "metadata": {},
   "outputs": [
    {
     "name": "stdout",
     "output_type": "stream",
     "text": [
      "bottom\n",
      "middle\n",
      "top\n"
     ]
    }
   ],
   "source": [
    "class top :\n",
    "    def m_top(self) :\n",
    "        print('top')\n",
    "\n",
    "class middle(top):\n",
    "    def m_middle(self) :\n",
    "        print('middle')\n",
    "\n",
    "class bottom(middle,top) :\n",
    "    def m_bottom(self) :\n",
    "        print('bottom')\n",
    "\n",
    "obj = bottom()\n",
    "obj.m_bottom()\n",
    "obj.m_middle()\n",
    "obj.m_top()"
   ]
  },
  {
   "cell_type": "markdown",
   "metadata": {},
   "source": [
    "- diamond problem [kerjakan tugas 1][modul]"
   ]
  },
  {
   "cell_type": "code",
   "execution_count": 10,
   "metadata": {},
   "outputs": [
    {
     "name": "stdout",
     "output_type": "stream",
     "text": [
      "bottom\n",
      "middle right\n",
      "top\n"
     ]
    }
   ],
   "source": [
    "class top :\n",
    "    def m_top(self) :\n",
    "        print('top')\n",
    "class middle_left(top) :\n",
    "    def m_middle(self) :\n",
    "        print('middle_left')\n",
    "class middle_right(top) :\n",
    "    def m_middle(self) :\n",
    "        print('middle right')\n",
    "class bottom(middle_right,middle_left) :\n",
    "    def m_bottom(self) :\n",
    "        print('bottom')\n",
    "\n",
    "obj = bottom()\n",
    "obj.m_bottom()\n",
    "obj.m_middle()\n",
    "obj.m_top()"
   ]
  },
  {
   "cell_type": "markdown",
   "metadata": {},
   "source": [
    "- enkapsulasi [kerjakan tugas 1 dan 2][modul]"
   ]
  },
  {
   "cell_type": "code",
   "execution_count": 12,
   "metadata": {},
   "outputs": [
    {
     "name": "stdout",
     "output_type": "stream",
     "text": [
      "Saldo saat ini :  900000\n"
     ]
    }
   ],
   "source": [
    "class rekening :\n",
    "    \n",
    "    def __init__(self) :\n",
    "        self.__saldo = 0\n",
    "    \n",
    "    def kredit(self,jumlah) :\n",
    "        if jumlah < 0 :\n",
    "            print('Gagal kredit, jumlah kurang dari nol')\n",
    "            return\n",
    "        \n",
    "        self.__saldo += jumlah\n",
    "    \n",
    "    def debit(self,jumlah) :\n",
    "        if jumlah > self.__saldo :\n",
    "            print('Gagal debit, jumlah melebihi saldo')\n",
    "            return\n",
    "        if jumlah < 0 :\n",
    "            print('Gagal debit, jumlah tidak bisa kurang dari nol')\n",
    "            return\n",
    "        \n",
    "        self.__saldo -= jumlah\n",
    "    \n",
    "    def cetakSaldo(self) :\n",
    "        print('Saldo saat ini : ', self.__saldo)\n",
    "\n",
    "bni_alim = rekening()        \n",
    "bni_alim.kredit(1000000)\n",
    "bni_alim.debit(100000)\n",
    "bni_alim.cetakSaldo()"
   ]
  },
  {
   "cell_type": "code",
   "execution_count": 13,
   "metadata": {},
   "outputs": [
    {
     "name": "stdout",
     "output_type": "stream",
     "text": [
      "Alim satria\n",
      "semarang\n",
      "Alim satria\n",
      "[90, 100]\n",
      "['Matematika', 'Biologi']\n"
     ]
    }
   ],
   "source": [
    "class siswa :\n",
    "    \n",
    "    __mapel = []\n",
    "    __nilai = []\n",
    "\n",
    "    def __init__(self,nama,alamat) :\n",
    "        self.nama = nama\n",
    "        self.alamat = alamat\n",
    "    \n",
    "    def getNama(self) :\n",
    "        return self.nama\n",
    "    \n",
    "    def tambahNilaiMapel(self,mapel,nilai) :\n",
    "        self.__mapel.append(mapel)\n",
    "        self.__nilai.append(nilai)\n",
    "    \n",
    "    def ambilNilai(self) :\n",
    "        print(self.__nilai)\n",
    "        print(self.__mapel)\n",
    "\n",
    "data = siswa('Alim satria','semarang')\n",
    "print(data.nama)\n",
    "print(data.alamat)\n",
    "data.tambahNilaiMapel('Matematika',90)\n",
    "data.tambahNilaiMapel('Biologi',100)\n",
    "print(data.getNama())\n",
    "data.ambilNilai()"
   ]
  },
  {
   "cell_type": "markdown",
   "metadata": {},
   "source": [
    "Tugas 2"
   ]
  },
  {
   "cell_type": "code",
   "execution_count": 9,
   "metadata": {},
   "outputs": [
    {
     "name": "stdout",
     "output_type": "stream",
     "text": [
      "password :  yakiniku\n",
      "password benar\n"
     ]
    }
   ],
   "source": [
    "class login :\n",
    "\n",
    "    def __init__(self,masukan) :\n",
    "        self.__password = \"yakiniku\"\n",
    "        self.masukan = masukan\n",
    "\n",
    "    def unlock(self) :\n",
    "        if self.masukan != self.__password :\n",
    "            print('password salah')\n",
    "            return\n",
    "        else :\n",
    "            print('password benar')\n",
    "            return\n",
    "\n",
    "pwd = str(input(\"masukkan pwd\"))\n",
    "print(\"password : \",pwd)\n",
    "user = login(pwd)\n",
    "user.unlock()"
   ]
  }
 ],
 "metadata": {
  "interpreter": {
   "hash": "916dbcbb3f70747c44a77c7bcd40155683ae19c65e1c03b4aa3499c5328201f1"
  },
  "kernelspec": {
   "display_name": "Python 3.8.10 64-bit",
   "language": "python",
   "name": "python3"
  },
  "language_info": {
   "codemirror_mode": {
    "name": "ipython",
    "version": 3
   },
   "file_extension": ".py",
   "mimetype": "text/x-python",
   "name": "python",
   "nbconvert_exporter": "python",
   "pygments_lexer": "ipython3",
   "version": "3.8.10"
  },
  "orig_nbformat": 4
 },
 "nbformat": 4,
 "nbformat_minor": 2
}
